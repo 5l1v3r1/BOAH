{
 "cells": [
  {
   "cell_type": "markdown",
   "metadata": {},
   "source": [
    "# Running the ICML 2018 Experiments"
   ]
  },
  {
   "cell_type": "markdown",
   "metadata": {},
   "source": [
    "In this series of notebooks, we will replicate and analyze the ICML 2018 experiments that where used for benchmarking in <a href=\"http://proceedings.mlr.press/v80/falkner18a.html\" target=\"_blank\">BOHB (Falkner et al. 2018)</a>.\n",
    "In addition to <a href=\"https://github.com/automl/HpBandSter\" target=\"_blank\">HpBandSter</a>, we will use <a href=\"https://github.com/automl/CAVE\" target=\"_blank\">CAVE</a> to analyze and visualize the optimization process."
   ]
  },
  {
   "cell_type": "markdown",
   "metadata": {},
   "source": [
    "## About the frameworks\n",
    "\n",
    "### Paramnet Surrogates\n",
    "\n",
    "This experiment optimizes (TODO: add info)\n",
    "\n",
    "### Installation requirements\n",
    "\n",
    "Make sure you installed both, `requirements.txt` and `examples/icml_2018_experiments` (e.g. using `pip install -r PATH_FILE`)."
   ]
  },
  {
   "cell_type": "markdown",
   "metadata": {},
   "source": [
    "## Run the experiment\n"
   ]
  },
  {
   "cell_type": "code",
   "execution_count": 1,
   "metadata": {},
   "outputs": [],
   "source": [
    "# We deactivate logging to ensure readability\n",
    "import logging\n",
    "logging.basicConfig(level=logging.ERROR)\n",
    "# Also, we suppress warnings.\n",
    "# If there are problems for you executing this notebook, you might want to comment this out.\n",
    "import warnings\n",
    "warnings.filterwarnings(\"ignore\")"
   ]
  },
  {
   "cell_type": "markdown",
   "metadata": {},
   "source": [
    "### 1.1) Preparing BOHB\n",
    "*Worker*: We need a <a href=\"https://automl.github.io/HpBandSter/build/html/core/worker.html\" target=\"_blank\">Worker</a> to define the kind of computation we want to optimize. The worker used for the experiments is located in `workers/paramnet_surrogates.py`\n",
    "\n",
    "*ConfigSpace*: Every problem needs a description of the search space to be complete. In HpBandSter, a ConfigurationSpace-object defines all hyperparameters, their ranges and dependencies between them.\n",
    "\n",
    "In our example here, the search space consists of the hyperparameters:\n",
    "\n",
    "\n",
    "|  Name     |  Type   |      Values  |\n",
    "|:---------:|:-------:|:------------:|\n",
    "|           |         |              |"
   ]
  },
  {
   "cell_type": "code",
   "execution_count": 2,
   "metadata": {
    "scrolled": false
   },
   "outputs": [],
   "source": [
    "from workers.paramnet_surrogates import ParamNetSurrogateWorker"
   ]
  },
  {
   "cell_type": "markdown",
   "metadata": {
    "scrolled": false
   },
   "source": [
    "### 1.3) Setting up the HpBandSter Nameserver and starting the optimization run"
   ]
  },
  {
   "cell_type": "code",
   "execution_count": 3,
   "metadata": {},
   "outputs": [],
   "source": [
    "import os\n",
    "\n",
    "dataset = 'adult'  # choice: ['adult', 'higgs', 'letter', 'mnist', 'optdigits', 'poker']\n",
    "opt_method=\"bohb\"\n",
    "output_dir = \"results/paramnet_surrogates/\"  # This is the destination for the BOHB-results\n",
    "num_iterations = 1  # 16\n",
    "\n",
    "if not os.path.exists(output_dir):\n",
    "    os.makedirs(output_dir)"
   ]
  },
  {
   "cell_type": "markdown",
   "metadata": {},
   "source": [
    "#### Step 1 - initiating communication, creating a nameserver:\n",
    "The <a href=\"https://automl.github.io/HpBandSter/build/html/core/nameserver.html\" target=\"_blank\">nameserver</a> is a small service that keeps track of all running processes and their IP addresses and ports. It could be a 'static' server with a permanent address, but here it will be started for the local machine with a random port. "
   ]
  },
  {
   "cell_type": "code",
   "execution_count": 4,
   "metadata": {},
   "outputs": [],
   "source": [
    "import hpbandster.core.nameserver as hpns\n",
    "import hpbandster.core.result as hpres\n",
    "from hpbandster.optimizers import BOHB, RandomSearch, HyperBand\n",
    "\n",
    "run_id = '0'  # Every run has to have a unique (at runtime) id.\n",
    "\n",
    "# setup a nameserver\n",
    "NS = hpns.NameServer(run_id=run_id, host='localhost', port=0, working_directory=output_dir)\n",
    "ns_host, ns_port = NS.start()"
   ]
  },
  {
   "cell_type": "markdown",
   "metadata": {},
   "source": [
    "#### Step 2 - creating the worker: \n",
    "The worker implements the actual problem that is optimized. Its 'compute'-method will be called later by the BOHB-optimizer repeatedly with the sampled configurations and return the computed loss (and additional information)."
   ]
  },
  {
   "cell_type": "code",
   "execution_count": 21,
   "metadata": {},
   "outputs": [],
   "source": [
    "%%capture\n",
    "worker = ParamNetSurrogateWorker(dataset=dataset, surrogate_path=None, measure_test_loss=False, run_id=run_id)\n",
    "configspace = worker.configspace\n",
    "min_budget, max_budget = worker.budgets[dataset]\n",
    "\n",
    "worker.load_nameserver_credentials(output_dir)\n",
    "worker.run(background=True)"
   ]
  },
  {
   "cell_type": "markdown",
   "metadata": {},
   "source": [
    "#### Step 3:  \n",
    "Create an optimizer object, which samples configurations from the ConfigurationSpace, using succesive halving to assign budgets for execution. Further information on what qualifies as a budget <a href=\"https://automl.github.io/HpBandSter/build/html/quickstart.html#meaningful-budgets-and-number-of-iterations\" target=\"_blank\">can be found in the documentation.</a>\n",
    "\n",
    "**NOTE:** BOHB does not build a new model at the beginning of every SuccessiveHalving run. Instead it collects all evaluations on all budgets and uses the largest budget with enough evaluations as a base for future evaluations.  "
   ]
  },
  {
   "cell_type": "code",
   "execution_count": 22,
   "metadata": {},
   "outputs": [],
   "source": [
    "%%capture\n",
    "eta = 3\n",
    "opt = None\n",
    "\n",
    "if opt_method == 'randomsearch':\n",
    "    opt = RandomSearch      \n",
    "elif opt_method == 'bohb':\n",
    "    opt = BOHB              \n",
    "elif opt_method == 'hyperband':\n",
    "    opt = HyperBand\n",
    "else:\n",
    "    raise ValueError(\"Unknown method %s\" % opt_method)\n",
    "\n",
    "result_logger = hpres.json_result_logger(directory=output_dir, overwrite=True)\n",
    "\n",
    "opt = opt(configspace, eta=3,\n",
    "          working_directory=output_dir,\n",
    "          run_id=run_id,\n",
    "          min_budget=min_budget, max_budget=max_budget,\n",
    "          host=ns_host,\n",
    "          nameserver=ns_host,\n",
    "          nameserver_port = ns_port,\n",
    "          ping_interval=3600,\n",
    "          result_logger=result_logger)\n",
    "\n",
    "result = opt.run(n_iterations=num_iterations)"
   ]
  },
  {
   "cell_type": "markdown",
   "metadata": {},
   "source": [
    "**NOTE:** Unfortunately, the configuration space is *not saved automatically* to file but this step is mandatory for the analysis with CAVE.  \n",
    "We recommend to save the configuration space every time you use BOHB.\n",
    "We do this by using the ConfigSpace-to-json-writer."
   ]
  },
  {
   "cell_type": "code",
   "execution_count": 8,
   "metadata": {},
   "outputs": [],
   "source": [
    "from ConfigSpace.read_and_write import pcs_new\n",
    "with open(os.path.join(output_dir, 'configspace.pcs'), 'w') as fh:\n",
    "    fh.write(pcs_new.write(opt.config_generator.configspace))"
   ]
  },
  {
   "cell_type": "markdown",
   "metadata": {},
   "source": [
    "The <a href=\"https://automl.github.io/HpBandSter/build/html/core/result.html\" target=\"_blank\">Result-object</a> offers access to basic statistics, as well as the best configuration (incumbent) and the trajectory."
   ]
  },
  {
   "cell_type": "markdown",
   "metadata": {},
   "source": [
    "## Using the results in CAVE\n",
    "\n",
    "### 2.1) Creating a HTML-report with CAVE\n",
    "\n",
    "Creating the report with CAVE is very straight-forward. Simply provide the output-directory of the BOHB-analysis in CAVE's `--folders` argument and specify `--file_format` as `BOHB`. You can do this by commandline ('!' simply executes the command as if it was executed on the command line):\n"
   ]
  },
  {
   "cell_type": "code",
   "execution_count": 18,
   "metadata": {
    "scrolled": false
   },
   "outputs": [
    {
     "name": "stdout",
     "output_type": "stream",
     "text": [
      "usage: cave --folders FOLDERS [--verbose_level {INFO, ..., OFF}] [--jupyter {on, off}] [--validation {validation, epm}]\r\n",
      "            [--output OUTPUT] [--seed SEED] [--file_format {SMAC2, ..., BOHB}] [--validation_format {SMAC2, ..., NONE}]\r\n",
      "            [--ta_exec_dir TA_EXEC_DIR] [--pimp_max_samples PIMP_MAX_SAMPLES] [--pimp_no_fanova_pairs]\r\n",
      "            [--pimp_sort_table_by {average, ..., lpi}] [--cfp_time_slider {on, off}]\r\n",
      "            [--cfp_number_quantiles CFP_NUMBER_QUANTILES] [--cfp_max_plot CFP_MAX_PLOT] [--pc_sort_by {all, ..., none}]\r\n",
      "            [--parameter_importance {all, ..., none}] [--feature_analysis {all, ..., none}] [--no_tabular_analysis]\r\n",
      "            [--no_ecdf] [--no_scatter_plots] [--no_cost_over_time] [--no_configurator_footprint]\r\n",
      "            [--no_parallel_coordinates] [--no_algorithm_footprints] [-v] [-h]\r\n",
      "\r\n",
      "CAVE: Configuration Assessment Vizualisation and Evaluation\r\n",
      "\r\n",
      "Required Options:\r\n",
      "  --folders FOLDERS                     path(s) to Configurator output-directory/ies\r\n",
      "\r\n",
      "CAVE global options:\r\n",
      "  Options that configure the analysis in general and define behaviour.\r\n",
      "\r\n",
      "  --verbose_level {INFO, ..., OFF}      verbose level. use DEV_DEBUG for development to filter boilerplate-logs from\r\n",
      "                                        imported modules, use DEBUG for full logging. full debug-log always in\r\n",
      "                                        'output/debug/debug.log' (default: INFO)\r\n",
      "  --jupyter {on, off}                   output everything to jupyter, if available.(default: off)\r\n",
      "  --validation {validation, epm}        how to complete missing runs for config/inst-pairs. epm trains random forest\r\n",
      "                                        with available data to estimate missing runs, validation requires target\r\n",
      "                                        algorithm. (default: epm)\r\n",
      "  --output OUTPUT                       path to folder in which to save the HTML-report. (default:\r\n",
      "                                        CAVE_output_2019-04-21_18:45:35_895006)\r\n",
      "  --seed SEED                           random seed used throughout analysis. (default: 42)\r\n",
      "  --file_format {SMAC2, ..., BOHB}      specify the format of the configurator-files. (default: SMAC3)\r\n",
      "  --validation_format {SMAC2, ..., NONE}\r\n",
      "                                        what format the validation-files are in(default: NONE)\r\n",
      "  --ta_exec_dir TA_EXEC_DIR             path to the execution-directory of the configurator run. this is the path from\r\n",
      "                                        which the scenario is loaded, so the instance-/pcs-files specified in the\r\n",
      "                                        scenario, so they are relative to this path (e.g.\r\n",
      "                                        'ta_exec_dir/path_to_train_inst_specified_in_scenario.txt').\r\n",
      "\r\n",
      "Parameter Importance:\r\n",
      "  Define the behaviour of the ParameterImportance-module (pimp)\r\n",
      "\r\n",
      "  --pimp_max_samples PIMP_MAX_SAMPLES   How many datapoints to use with PIMP. -1 -> use all. (default: -1)\r\n",
      "  --pimp_no_fanova_pairs                fANOVA won't compute pairwise marginals\r\n",
      "  --pimp_sort_table_by {average, ..., lpi}\r\n",
      "                                        what kind of parameter importance method to use to sort the overview-table. (default: average)\r\n",
      "\r\n",
      "Configurator Footprint:\r\n",
      "  Finetune the configurator footprint\r\n",
      "\r\n",
      "  --cfp_time_slider {on, off}           whether or not to have a time_slider-widget on cfp-plotINCREASES FILE-SIZE (and\r\n",
      "                                        loading) DRAMATICALLY. (default: off)\r\n",
      "  --cfp_number_quantiles CFP_NUMBER_QUANTILES\r\n",
      "                                        number of quantiles that configurator footprint should plot over time. (default:\r\n",
      "                                        3)\r\n",
      "  --cfp_max_plot CFP_MAX_PLOT           maximum number of configurations to be plotted in configurator footprint (in\r\n",
      "                                        case you run into a MemoryError). -1 -> plot all. (default: -1)\r\n",
      "\r\n",
      "Parallel Coordinates:\r\n",
      "  Finetune the parameter parallel coordinates\r\n",
      "\r\n",
      "  --pc_sort_by {all, ..., none}         parameter-importance method to determine the order (and selection) of parameters\r\n",
      "                                        for parallel coordinates. all: aggregate over all available methods. uses random\r\n",
      "                                        method if none is given. (default: all)\r\n",
      "\r\n",
      "Analysis:\r\n",
      "  Which analysis methods should be carried out\r\n",
      "\r\n",
      "  --parameter_importance {all, ..., none}\r\n",
      "                                        what kind of parameter importance method to use. Choose any combination of\r\n",
      "                                        [ablation, forward_selection, fanova, lpi] or set it to all/none\r\n",
      "  --feature_analysis {all, ..., none}   what kind of feature analysis methods to use. Choose any combination of\r\n",
      "                                        [box_violin, correlation, clustering, importance] or set it to all/none\r\n",
      "  --no_tabular_analysis                 don't create performance table.\r\n",
      "  --no_ecdf                             don't plot ecdf.\r\n",
      "  --no_scatter_plots                    don't plot scatter plots.\r\n",
      "  --no_cost_over_time                   don't plot cost over time.\r\n",
      "  --no_configurator_footprint           don't plot configurator footprint.\r\n",
      "  --no_parallel_coordinates             don't plot parallel coordinates.\r\n",
      "  --no_algorithm_footprints             don't plot algorithm footprints.\r\n",
      "\r\n",
      "Meta arguments:\r\n",
      "  -v, --version                         show program's version number and exit.\r\n",
      "  -h, --help                            show this help message and exit\r\n"
     ]
    }
   ],
   "source": [
    "! cave --folders results/bnn --file_format BOHB --output CAVE_reports/paramnet_bash --verbose_level OFF"
   ]
  },
  {
   "cell_type": "markdown",
   "metadata": {},
   "source": [
    "After CAVE finished the report, you can have a look at it with your favorite browser."
   ]
  },
  {
   "cell_type": "code",
   "execution_count": 10,
   "metadata": {
    "scrolled": false
   },
   "outputs": [],
   "source": [
    "! firefox ./CAVE_reports/paramnet_bash/report.html"
   ]
  },
  {
   "cell_type": "markdown",
   "metadata": {},
   "source": [
    "### 2.2) Using CAVE from within Python\n",
    "\n",
    "Of course you can use CAVE on a module-level. Import and instantiate it (very similarily to the commandline). By default, CAVE even outputs all analysis results in a jupyter-cell-compatible way. Of course, the HTML-report is built meanwhile, so you don't have to run time-consuming analyzing-methods repeatedly."
   ]
  },
  {
   "cell_type": "code",
   "execution_count": 16,
   "metadata": {
    "scrolled": false
   },
   "outputs": [],
   "source": [
    "from cave.cavefacade import CAVE\n",
    "\n",
    "cave = CAVE(folders=[output_dir],\n",
    "            output_dir=\"CAVE_reports/paramnet_notebook\",\n",
    "            ta_exec_dir=[\".\"],\n",
    "            file_format='BOHB',\n",
    "            verbose_level='OFF',\n",
    "            show_jupyter=True\n",
    "           )"
   ]
  },
  {
   "cell_type": "markdown",
   "metadata": {},
   "source": [
    "The most interesting plot for BOHB might be a visualization of the learning curves:"
   ]
  },
  {
   "cell_type": "code",
   "execution_count": 17,
   "metadata": {
    "scrolled": false
   },
   "outputs": [
    {
     "data": {
      "text/html": [
       "\n",
       "    <div class=\"bk-root\">\n",
       "        <a href=\"https://bokeh.pydata.org\" target=\"_blank\" class=\"bk-logo bk-logo-small bk-logo-notebook\"></a>\n",
       "        <span id=\"1151\">Loading BokehJS ...</span>\n",
       "    </div>"
      ]
     },
     "metadata": {},
     "output_type": "display_data"
    },
    {
     "data": {
      "application/javascript": [
       "\n",
       "(function(root) {\n",
       "  function now() {\n",
       "    return new Date();\n",
       "  }\n",
       "\n",
       "  var force = true;\n",
       "\n",
       "  if (typeof (root._bokeh_onload_callbacks) === \"undefined\" || force === true) {\n",
       "    root._bokeh_onload_callbacks = [];\n",
       "    root._bokeh_is_loading = undefined;\n",
       "  }\n",
       "\n",
       "  var JS_MIME_TYPE = 'application/javascript';\n",
       "  var HTML_MIME_TYPE = 'text/html';\n",
       "  var EXEC_MIME_TYPE = 'application/vnd.bokehjs_exec.v0+json';\n",
       "  var CLASS_NAME = 'output_bokeh rendered_html';\n",
       "\n",
       "  /**\n",
       "   * Render data to the DOM node\n",
       "   */\n",
       "  function render(props, node) {\n",
       "    var script = document.createElement(\"script\");\n",
       "    node.appendChild(script);\n",
       "  }\n",
       "\n",
       "  /**\n",
       "   * Handle when an output is cleared or removed\n",
       "   */\n",
       "  function handleClearOutput(event, handle) {\n",
       "    var cell = handle.cell;\n",
       "\n",
       "    var id = cell.output_area._bokeh_element_id;\n",
       "    var server_id = cell.output_area._bokeh_server_id;\n",
       "    // Clean up Bokeh references\n",
       "    if (id != null && id in Bokeh.index) {\n",
       "      Bokeh.index[id].model.document.clear();\n",
       "      delete Bokeh.index[id];\n",
       "    }\n",
       "\n",
       "    if (server_id !== undefined) {\n",
       "      // Clean up Bokeh references\n",
       "      var cmd = \"from bokeh.io.state import curstate; print(curstate().uuid_to_server['\" + server_id + \"'].get_sessions()[0].document.roots[0]._id)\";\n",
       "      cell.notebook.kernel.execute(cmd, {\n",
       "        iopub: {\n",
       "          output: function(msg) {\n",
       "            var id = msg.content.text.trim();\n",
       "            if (id in Bokeh.index) {\n",
       "              Bokeh.index[id].model.document.clear();\n",
       "              delete Bokeh.index[id];\n",
       "            }\n",
       "          }\n",
       "        }\n",
       "      });\n",
       "      // Destroy server and session\n",
       "      var cmd = \"import bokeh.io.notebook as ion; ion.destroy_server('\" + server_id + \"')\";\n",
       "      cell.notebook.kernel.execute(cmd);\n",
       "    }\n",
       "  }\n",
       "\n",
       "  /**\n",
       "   * Handle when a new output is added\n",
       "   */\n",
       "  function handleAddOutput(event, handle) {\n",
       "    var output_area = handle.output_area;\n",
       "    var output = handle.output;\n",
       "\n",
       "    // limit handleAddOutput to display_data with EXEC_MIME_TYPE content only\n",
       "    if ((output.output_type != \"display_data\") || (!output.data.hasOwnProperty(EXEC_MIME_TYPE))) {\n",
       "      return\n",
       "    }\n",
       "\n",
       "    var toinsert = output_area.element.find(\".\" + CLASS_NAME.split(' ')[0]);\n",
       "\n",
       "    if (output.metadata[EXEC_MIME_TYPE][\"id\"] !== undefined) {\n",
       "      toinsert[toinsert.length - 1].firstChild.textContent = output.data[JS_MIME_TYPE];\n",
       "      // store reference to embed id on output_area\n",
       "      output_area._bokeh_element_id = output.metadata[EXEC_MIME_TYPE][\"id\"];\n",
       "    }\n",
       "    if (output.metadata[EXEC_MIME_TYPE][\"server_id\"] !== undefined) {\n",
       "      var bk_div = document.createElement(\"div\");\n",
       "      bk_div.innerHTML = output.data[HTML_MIME_TYPE];\n",
       "      var script_attrs = bk_div.children[0].attributes;\n",
       "      for (var i = 0; i < script_attrs.length; i++) {\n",
       "        toinsert[toinsert.length - 1].firstChild.setAttribute(script_attrs[i].name, script_attrs[i].value);\n",
       "      }\n",
       "      // store reference to server id on output_area\n",
       "      output_area._bokeh_server_id = output.metadata[EXEC_MIME_TYPE][\"server_id\"];\n",
       "    }\n",
       "  }\n",
       "\n",
       "  function register_renderer(events, OutputArea) {\n",
       "\n",
       "    function append_mime(data, metadata, element) {\n",
       "      // create a DOM node to render to\n",
       "      var toinsert = this.create_output_subarea(\n",
       "        metadata,\n",
       "        CLASS_NAME,\n",
       "        EXEC_MIME_TYPE\n",
       "      );\n",
       "      this.keyboard_manager.register_events(toinsert);\n",
       "      // Render to node\n",
       "      var props = {data: data, metadata: metadata[EXEC_MIME_TYPE]};\n",
       "      render(props, toinsert[toinsert.length - 1]);\n",
       "      element.append(toinsert);\n",
       "      return toinsert\n",
       "    }\n",
       "\n",
       "    /* Handle when an output is cleared or removed */\n",
       "    events.on('clear_output.CodeCell', handleClearOutput);\n",
       "    events.on('delete.Cell', handleClearOutput);\n",
       "\n",
       "    /* Handle when a new output is added */\n",
       "    events.on('output_added.OutputArea', handleAddOutput);\n",
       "\n",
       "    /**\n",
       "     * Register the mime type and append_mime function with output_area\n",
       "     */\n",
       "    OutputArea.prototype.register_mime_type(EXEC_MIME_TYPE, append_mime, {\n",
       "      /* Is output safe? */\n",
       "      safe: true,\n",
       "      /* Index of renderer in `output_area.display_order` */\n",
       "      index: 0\n",
       "    });\n",
       "  }\n",
       "\n",
       "  // register the mime type if in Jupyter Notebook environment and previously unregistered\n",
       "  if (root.Jupyter !== undefined) {\n",
       "    var events = require('base/js/events');\n",
       "    var OutputArea = require('notebook/js/outputarea').OutputArea;\n",
       "\n",
       "    if (OutputArea.prototype.mime_types().indexOf(EXEC_MIME_TYPE) == -1) {\n",
       "      register_renderer(events, OutputArea);\n",
       "    }\n",
       "  }\n",
       "\n",
       "  \n",
       "  if (typeof (root._bokeh_timeout) === \"undefined\" || force === true) {\n",
       "    root._bokeh_timeout = Date.now() + 5000;\n",
       "    root._bokeh_failed_load = false;\n",
       "  }\n",
       "\n",
       "  var NB_LOAD_WARNING = {'data': {'text/html':\n",
       "     \"<div style='background-color: #fdd'>\\n\"+\n",
       "     \"<p>\\n\"+\n",
       "     \"BokehJS does not appear to have successfully loaded. If loading BokehJS from CDN, this \\n\"+\n",
       "     \"may be due to a slow or bad network connection. Possible fixes:\\n\"+\n",
       "     \"</p>\\n\"+\n",
       "     \"<ul>\\n\"+\n",
       "     \"<li>re-rerun `output_notebook()` to attempt to load from CDN again, or</li>\\n\"+\n",
       "     \"<li>use INLINE resources instead, as so:</li>\\n\"+\n",
       "     \"</ul>\\n\"+\n",
       "     \"<code>\\n\"+\n",
       "     \"from bokeh.resources import INLINE\\n\"+\n",
       "     \"output_notebook(resources=INLINE)\\n\"+\n",
       "     \"</code>\\n\"+\n",
       "     \"</div>\"}};\n",
       "\n",
       "  function display_loaded() {\n",
       "    var el = document.getElementById(\"1151\");\n",
       "    if (el != null) {\n",
       "      el.textContent = \"BokehJS is loading...\";\n",
       "    }\n",
       "    if (root.Bokeh !== undefined) {\n",
       "      if (el != null) {\n",
       "        el.textContent = \"BokehJS \" + root.Bokeh.version + \" successfully loaded.\";\n",
       "      }\n",
       "    } else if (Date.now() < root._bokeh_timeout) {\n",
       "      setTimeout(display_loaded, 100)\n",
       "    }\n",
       "  }\n",
       "\n",
       "\n",
       "  function run_callbacks() {\n",
       "    try {\n",
       "      root._bokeh_onload_callbacks.forEach(function(callback) { callback() });\n",
       "    }\n",
       "    finally {\n",
       "      delete root._bokeh_onload_callbacks\n",
       "    }\n",
       "    console.info(\"Bokeh: all callbacks have finished\");\n",
       "  }\n",
       "\n",
       "  function load_libs(js_urls, callback) {\n",
       "    root._bokeh_onload_callbacks.push(callback);\n",
       "    if (root._bokeh_is_loading > 0) {\n",
       "      console.log(\"Bokeh: BokehJS is being loaded, scheduling callback at\", now());\n",
       "      return null;\n",
       "    }\n",
       "    if (js_urls == null || js_urls.length === 0) {\n",
       "      run_callbacks();\n",
       "      return null;\n",
       "    }\n",
       "    console.log(\"Bokeh: BokehJS not loaded, scheduling load and callback at\", now());\n",
       "    root._bokeh_is_loading = js_urls.length;\n",
       "    for (var i = 0; i < js_urls.length; i++) {\n",
       "      var url = js_urls[i];\n",
       "      var s = document.createElement('script');\n",
       "      s.src = url;\n",
       "      s.async = false;\n",
       "      s.onreadystatechange = s.onload = function() {\n",
       "        root._bokeh_is_loading--;\n",
       "        if (root._bokeh_is_loading === 0) {\n",
       "          console.log(\"Bokeh: all BokehJS libraries loaded\");\n",
       "          run_callbacks()\n",
       "        }\n",
       "      };\n",
       "      s.onerror = function() {\n",
       "        console.warn(\"failed to load library \" + url);\n",
       "      };\n",
       "      console.log(\"Bokeh: injecting script tag for BokehJS library: \", url);\n",
       "      document.getElementsByTagName(\"head\")[0].appendChild(s);\n",
       "    }\n",
       "  };var element = document.getElementById(\"1151\");\n",
       "  if (element == null) {\n",
       "    console.log(\"Bokeh: ERROR: autoload.js configured with elementid '1151' but no matching script tag was found. \")\n",
       "    return false;\n",
       "  }\n",
       "\n",
       "  var js_urls = [\"https://cdn.pydata.org/bokeh/release/bokeh-1.0.1.min.js\", \"https://cdn.pydata.org/bokeh/release/bokeh-widgets-1.0.1.min.js\", \"https://cdn.pydata.org/bokeh/release/bokeh-tables-1.0.1.min.js\", \"https://cdn.pydata.org/bokeh/release/bokeh-gl-1.0.1.min.js\"];\n",
       "\n",
       "  var inline_js = [\n",
       "    function(Bokeh) {\n",
       "      Bokeh.set_log_level(\"info\");\n",
       "    },\n",
       "    \n",
       "    function(Bokeh) {\n",
       "      \n",
       "    },\n",
       "    function(Bokeh) {\n",
       "      console.log(\"Bokeh: injecting CSS: https://cdn.pydata.org/bokeh/release/bokeh-1.0.1.min.css\");\n",
       "      Bokeh.embed.inject_css(\"https://cdn.pydata.org/bokeh/release/bokeh-1.0.1.min.css\");\n",
       "      console.log(\"Bokeh: injecting CSS: https://cdn.pydata.org/bokeh/release/bokeh-widgets-1.0.1.min.css\");\n",
       "      Bokeh.embed.inject_css(\"https://cdn.pydata.org/bokeh/release/bokeh-widgets-1.0.1.min.css\");\n",
       "      console.log(\"Bokeh: injecting CSS: https://cdn.pydata.org/bokeh/release/bokeh-tables-1.0.1.min.css\");\n",
       "      Bokeh.embed.inject_css(\"https://cdn.pydata.org/bokeh/release/bokeh-tables-1.0.1.min.css\");\n",
       "    }\n",
       "  ];\n",
       "\n",
       "  function run_inline_js() {\n",
       "    \n",
       "    if ((root.Bokeh !== undefined) || (force === true)) {\n",
       "      for (var i = 0; i < inline_js.length; i++) {\n",
       "        inline_js[i].call(root, root.Bokeh);\n",
       "      }if (force === true) {\n",
       "        display_loaded();\n",
       "      }} else if (Date.now() < root._bokeh_timeout) {\n",
       "      setTimeout(run_inline_js, 100);\n",
       "    } else if (!root._bokeh_failed_load) {\n",
       "      console.log(\"Bokeh: BokehJS failed to load within specified timeout.\");\n",
       "      root._bokeh_failed_load = true;\n",
       "    } else if (force !== true) {\n",
       "      var cell = $(document.getElementById(\"1151\")).parents('.cell').data().cell;\n",
       "      cell.output_area.append_execute_result(NB_LOAD_WARNING)\n",
       "    }\n",
       "\n",
       "  }\n",
       "\n",
       "  if (root._bokeh_is_loading === 0) {\n",
       "    console.log(\"Bokeh: BokehJS loaded, going straight to plotting\");\n",
       "    run_inline_js();\n",
       "  } else {\n",
       "    load_libs(js_urls, function() {\n",
       "      console.log(\"Bokeh: BokehJS plotting callback run at\", now());\n",
       "      run_inline_js();\n",
       "    });\n",
       "  }\n",
       "}(window));"
      ],
      "application/vnd.bokehjs_load.v0+json": "\n(function(root) {\n  function now() {\n    return new Date();\n  }\n\n  var force = true;\n\n  if (typeof (root._bokeh_onload_callbacks) === \"undefined\" || force === true) {\n    root._bokeh_onload_callbacks = [];\n    root._bokeh_is_loading = undefined;\n  }\n\n  \n\n  \n  if (typeof (root._bokeh_timeout) === \"undefined\" || force === true) {\n    root._bokeh_timeout = Date.now() + 5000;\n    root._bokeh_failed_load = false;\n  }\n\n  var NB_LOAD_WARNING = {'data': {'text/html':\n     \"<div style='background-color: #fdd'>\\n\"+\n     \"<p>\\n\"+\n     \"BokehJS does not appear to have successfully loaded. If loading BokehJS from CDN, this \\n\"+\n     \"may be due to a slow or bad network connection. Possible fixes:\\n\"+\n     \"</p>\\n\"+\n     \"<ul>\\n\"+\n     \"<li>re-rerun `output_notebook()` to attempt to load from CDN again, or</li>\\n\"+\n     \"<li>use INLINE resources instead, as so:</li>\\n\"+\n     \"</ul>\\n\"+\n     \"<code>\\n\"+\n     \"from bokeh.resources import INLINE\\n\"+\n     \"output_notebook(resources=INLINE)\\n\"+\n     \"</code>\\n\"+\n     \"</div>\"}};\n\n  function display_loaded() {\n    var el = document.getElementById(\"1151\");\n    if (el != null) {\n      el.textContent = \"BokehJS is loading...\";\n    }\n    if (root.Bokeh !== undefined) {\n      if (el != null) {\n        el.textContent = \"BokehJS \" + root.Bokeh.version + \" successfully loaded.\";\n      }\n    } else if (Date.now() < root._bokeh_timeout) {\n      setTimeout(display_loaded, 100)\n    }\n  }\n\n\n  function run_callbacks() {\n    try {\n      root._bokeh_onload_callbacks.forEach(function(callback) { callback() });\n    }\n    finally {\n      delete root._bokeh_onload_callbacks\n    }\n    console.info(\"Bokeh: all callbacks have finished\");\n  }\n\n  function load_libs(js_urls, callback) {\n    root._bokeh_onload_callbacks.push(callback);\n    if (root._bokeh_is_loading > 0) {\n      console.log(\"Bokeh: BokehJS is being loaded, scheduling callback at\", now());\n      return null;\n    }\n    if (js_urls == null || js_urls.length === 0) {\n      run_callbacks();\n      return null;\n    }\n    console.log(\"Bokeh: BokehJS not loaded, scheduling load and callback at\", now());\n    root._bokeh_is_loading = js_urls.length;\n    for (var i = 0; i < js_urls.length; i++) {\n      var url = js_urls[i];\n      var s = document.createElement('script');\n      s.src = url;\n      s.async = false;\n      s.onreadystatechange = s.onload = function() {\n        root._bokeh_is_loading--;\n        if (root._bokeh_is_loading === 0) {\n          console.log(\"Bokeh: all BokehJS libraries loaded\");\n          run_callbacks()\n        }\n      };\n      s.onerror = function() {\n        console.warn(\"failed to load library \" + url);\n      };\n      console.log(\"Bokeh: injecting script tag for BokehJS library: \", url);\n      document.getElementsByTagName(\"head\")[0].appendChild(s);\n    }\n  };var element = document.getElementById(\"1151\");\n  if (element == null) {\n    console.log(\"Bokeh: ERROR: autoload.js configured with elementid '1151' but no matching script tag was found. \")\n    return false;\n  }\n\n  var js_urls = [\"https://cdn.pydata.org/bokeh/release/bokeh-1.0.1.min.js\", \"https://cdn.pydata.org/bokeh/release/bokeh-widgets-1.0.1.min.js\", \"https://cdn.pydata.org/bokeh/release/bokeh-tables-1.0.1.min.js\", \"https://cdn.pydata.org/bokeh/release/bokeh-gl-1.0.1.min.js\"];\n\n  var inline_js = [\n    function(Bokeh) {\n      Bokeh.set_log_level(\"info\");\n    },\n    \n    function(Bokeh) {\n      \n    },\n    function(Bokeh) {\n      console.log(\"Bokeh: injecting CSS: https://cdn.pydata.org/bokeh/release/bokeh-1.0.1.min.css\");\n      Bokeh.embed.inject_css(\"https://cdn.pydata.org/bokeh/release/bokeh-1.0.1.min.css\");\n      console.log(\"Bokeh: injecting CSS: https://cdn.pydata.org/bokeh/release/bokeh-widgets-1.0.1.min.css\");\n      Bokeh.embed.inject_css(\"https://cdn.pydata.org/bokeh/release/bokeh-widgets-1.0.1.min.css\");\n      console.log(\"Bokeh: injecting CSS: https://cdn.pydata.org/bokeh/release/bokeh-tables-1.0.1.min.css\");\n      Bokeh.embed.inject_css(\"https://cdn.pydata.org/bokeh/release/bokeh-tables-1.0.1.min.css\");\n    }\n  ];\n\n  function run_inline_js() {\n    \n    if ((root.Bokeh !== undefined) || (force === true)) {\n      for (var i = 0; i < inline_js.length; i++) {\n        inline_js[i].call(root, root.Bokeh);\n      }if (force === true) {\n        display_loaded();\n      }} else if (Date.now() < root._bokeh_timeout) {\n      setTimeout(run_inline_js, 100);\n    } else if (!root._bokeh_failed_load) {\n      console.log(\"Bokeh: BokehJS failed to load within specified timeout.\");\n      root._bokeh_failed_load = true;\n    } else if (force !== true) {\n      var cell = $(document.getElementById(\"1151\")).parents('.cell').data().cell;\n      cell.output_area.append_execute_result(NB_LOAD_WARNING)\n    }\n\n  }\n\n  if (root._bokeh_is_loading === 0) {\n    console.log(\"Bokeh: BokehJS loaded, going straight to plotting\");\n    run_inline_js();\n  } else {\n    load_libs(js_urls, function() {\n      console.log(\"Bokeh: BokehJS plotting callback run at\", now());\n      run_inline_js();\n    });\n  }\n}(window));"
     },
     "metadata": {},
     "output_type": "display_data"
    },
    {
     "data": {
      "text/html": [
       "\n",
       "\n",
       "\n",
       "\n",
       "\n",
       "\n",
       "  <div class=\"bk-root\" id=\"65bc6104-a021-4c17-9fb8-311c768cc9ec\"></div>\n"
      ]
     },
     "metadata": {},
     "output_type": "display_data"
    },
    {
     "data": {
      "application/javascript": [
       "(function(root) {\n",
       "  function embed_document(root) {\n",
       "    \n",
       "  var docs_json = {\"d2d9861a-17d9-4377-8f89-fabff2ad6c30\":{\"roots\":{\"references\":[{\"attributes\":{\"children\":[{\"id\":\"1158\",\"subtype\":\"Figure\",\"type\":\"Plot\"},{\"id\":\"1222\",\"type\":\"Column\"}]},\"id\":\"1223\",\"type\":\"Row\"},{\"attributes\":{},\"id\":\"1176\",\"type\":\"PanTool\"},{\"attributes\":{\"plot\":null,\"text\":\"\"},\"id\":\"1236\",\"type\":\"Title\"},{\"attributes\":{},\"id\":\"1177\",\"type\":\"WheelZoomTool\"},{\"attributes\":{\"column_name\":\"HB_iteration\",\"group\":\"0\"},\"id\":\"1195\",\"type\":\"GroupFilter\"},{\"attributes\":{\"fill_alpha\":{\"value\":0.5},\"fill_color\":{\"field\":\"colors\",\"transform\":{\"id\":\"1155\",\"type\":\"LinearColorMapper\"}},\"line_color\":{\"field\":\"colors\"},\"size\":{\"units\":\"screen\",\"value\":20},\"x\":{\"field\":\"times\"},\"y\":{\"field\":\"losses\"}},\"id\":\"1206\",\"type\":\"Circle\"},{\"attributes\":{},\"id\":\"1238\",\"type\":\"BasicTickFormatter\"},{\"attributes\":{\"column_name\":\"config_info\",\"group\":\"model_based_pick=True\"},\"id\":\"1196\",\"type\":\"GroupFilter\"},{\"attributes\":{\"overlay\":{\"id\":\"1184\",\"type\":\"BoxAnnotation\"}},\"id\":\"1178\",\"type\":\"BoxZoomTool\"},{\"attributes\":{\"filters\":[{\"id\":\"1195\",\"type\":\"GroupFilter\"},{\"id\":\"1196\",\"type\":\"GroupFilter\"}],\"source\":{\"id\":\"1154\",\"type\":\"ColumnDataSource\"}},\"id\":\"1197\",\"type\":\"CDSView\"},{\"attributes\":{\"fill_alpha\":{\"value\":0.1},\"fill_color\":{\"value\":\"#1f77b4\"},\"line_alpha\":{\"value\":0.1},\"line_color\":{\"value\":\"#1f77b4\"},\"size\":{\"units\":\"screen\",\"value\":20},\"x\":{\"field\":\"times\"},\"y\":{\"field\":\"losses\"}},\"id\":\"1207\",\"type\":\"Circle\"},{\"attributes\":{\"ticker\":null},\"id\":\"1240\",\"type\":\"LogTickFormatter\"},{\"attributes\":{},\"id\":\"1179\",\"type\":\"ResetTool\"},{\"attributes\":{\"data_source\":{\"id\":\"1154\",\"type\":\"ColumnDataSource\"},\"glyph\":{\"id\":\"1206\",\"type\":\"Circle\"},\"hover_glyph\":null,\"muted_glyph\":null,\"nonselection_glyph\":{\"id\":\"1207\",\"type\":\"Circle\"},\"selection_glyph\":null,\"view\":{\"id\":\"1204\",\"type\":\"CDSView\"}},\"id\":\"1208\",\"type\":\"GlyphRenderer\"},{\"attributes\":{},\"id\":\"1242\",\"type\":\"Selection\"},{\"attributes\":{\"callback\":null,\"renderers\":\"auto\",\"tooltips\":[[\"config_id\",\"@config_id\"],[\"config_info\",\"@config_info\"],[\"losses\",\"@losses\"],[\"HB_iteration\",\"@HB_iteration\"],[\"duration (sec)\",\"@duration\"],[\"Configuration\",\" \"],[\"x0\",\"@x0\"],[\"x1\",\"@x1\"],[\"x2\",\"@x2\"],[\"x3\",\"@x3\"],[\"x4\",\"@x4\"],[\"x5\",\"@x5\"]]},\"id\":\"1152\",\"type\":\"HoverTool\"},{\"attributes\":{\"active\":[0],\"callback\":{\"id\":\"1209\",\"type\":\"CustomJS\"},\"labels\":[\"0\"]},\"id\":\"1210\",\"type\":\"CheckboxButtonGroup\"},{\"attributes\":{\"bottom_units\":\"screen\",\"fill_alpha\":{\"value\":0.5},\"fill_color\":{\"value\":\"lightgrey\"},\"left_units\":\"screen\",\"level\":\"overlay\",\"line_alpha\":{\"value\":1.0},\"line_color\":{\"value\":\"black\"},\"line_dash\":[4,4],\"line_width\":{\"value\":2},\"plot\":null,\"render_mode\":\"css\",\"right_units\":\"screen\",\"top_units\":\"screen\"},\"id\":\"1184\",\"type\":\"BoxAnnotation\"},{\"attributes\":{\"fill_alpha\":{\"value\":0.5},\"fill_color\":{\"field\":\"colors\",\"transform\":{\"id\":\"1155\",\"type\":\"LinearColorMapper\"}},\"line_color\":{\"field\":\"colors\"},\"size\":{\"units\":\"screen\",\"value\":20},\"x\":{\"field\":\"times\"},\"y\":{\"field\":\"losses\"}},\"id\":\"1199\",\"type\":\"CircleX\"},{\"attributes\":{},\"id\":\"1243\",\"type\":\"UnionRenderers\"},{\"attributes\":{\"filters\":[{\"id\":\"1189\",\"type\":\"GroupFilter\"}],\"source\":{\"id\":\"1153\",\"type\":\"ColumnDataSource\"}},\"id\":\"1190\",\"type\":\"CDSView\"},{\"attributes\":{\"callback\":null,\"data\":{\"HB_iteration\":[\"0\",\"0\",\"0\",\"0\",\"0\",\"0\",\"0\",\"0\",\"0\",\"0\",\"0\",\"0\",\"0\",\"0\",\"0\",\"0\",\"0\",\"0\",\"0\",\"0\",\"0\",\"0\",\"0\",\"0\",\"0\",\"0\",\"0\"],\"colors\":[0.15858333182776413,0.15331481914608566,0.15993518462997894,0.149212958931647,0.18504629904086944,0.5455300933924953,0.3190925920158625,0.16594444480648748,0.1553518520069343,0.1583703684081082,0.2845185162626483,0.15305555473268032,0.1681666661020782,0.15257406998260153,0.1553240690463119,0.16005555351575215,0.16711110932849066,0.15331481386914297,0.14864814632303183,0.15236110830941688,0.3011666643903763,0.15988888488875497,0.15023703700977345,0.17543518653649975,0.15537036815230493,0.15399999906343442,0.14855555527408917],\"colors_iteration\":[0,0,0,0,0,0,0,0,0,0,0,0,0,0,0,0,0,0,0,0,0,0,0,0,0,0,0],\"colors_performance\":[0.15858333182776413,0.15331481914608566,0.15993518462997894,0.149212958931647,0.18504629904086944,0.5455300933924953,0.3190925920158625,0.16594444480648748,0.1553518520069343,0.1583703684081082,0.2845185162626483,0.15305555473268032,0.1681666661020782,0.15257406998260153,0.1553240690463119,0.16005555351575215,0.16711110932849066,0.15331481386914297,0.14864814632303183,0.15236110830941688,0.3011666643903763,0.15988888488875497,0.15023703700977345,0.17543518653649975,0.15537036815230493,0.15399999906343442,0.14855555527408917],\"config_id\":[\"(0, 0, 0)\",\"(0, 0, 1)\",\"(0, 0, 2)\",\"(0, 0, 3)\",\"(0, 0, 4)\",\"(0, 0, 5)\",\"(0, 0, 6)\",\"(0, 0, 7)\",\"(0, 0, 8)\",\"(0, 0, 9)\",\"(0, 0, 10)\",\"(0, 0, 11)\",\"(0, 0, 12)\",\"(0, 0, 13)\",\"(0, 0, 14)\",\"(0, 0, 15)\",\"(0, 0, 16)\",\"(0, 0, 17)\",\"(0, 0, 18)\",\"(0, 0, 19)\",\"(0, 0, 20)\",\"(0, 0, 21)\",\"(0, 0, 22)\",\"(0, 0, 23)\",\"(0, 0, 24)\",\"(0, 0, 25)\",\"(0, 0, 26)\"],\"config_info\":[\"model_based_pick=False\",\"model_based_pick=False\",\"model_based_pick=False\",\"model_based_pick=False\",\"model_based_pick=False\",\"model_based_pick=False\",\"model_based_pick=False\",\"model_based_pick=False\",\"model_based_pick=False\",\"model_based_pick=False\",\"model_based_pick=False\",\"model_based_pick=False\",\"model_based_pick=False\",\"model_based_pick=False\",\"model_based_pick=True\",\"model_based_pick=True\",\"model_based_pick=False\",\"model_based_pick=False\",\"model_based_pick=True\",\"model_based_pick=False\",\"model_based_pick=False\",\"model_based_pick=True\",\"model_based_pick=True\",\"model_based_pick=False\",\"model_based_pick=True\",\"model_based_pick=False\",\"model_based_pick=True\"],\"duration\":[0.013111114501953125,0.007787227630615234,0.009995698928833008,0.007141828536987305,0.009398937225341797,0.015906333923339844,0.014251470565795898,0.0074689388275146484,0.01061248779296875,0.010033845901489258,0.0071489810943603516,0.006759166717529297,0.009834766387939453,0.006108760833740234,0.007928848266601562,0.00728154182434082,0.007544994354248047,0.006769895553588867,0.007537126541137695,0.00655364990234375,0.0075948238372802734,0.010370492935180664,0.007064104080200195,0.00849294662475586,0.009271621704101562,0.01232767105102539,0.007607221603393555],\"losses\":[[0.15858333182776413],[0.15331481914608566,0.15331481914608566],[0.15993518462997894],[0.149212958931647,0.149212958931647,0.149212958931647],[0.18504629904086944],[0.5455300933924953],[0.3190925920158625],[0.16594444480648748],[0.1553518520069343],[0.1583703684081082],[0.2845185162626483],[0.15305555473268032,0.15305555473268032],[0.1681666661020782],[0.15257406998260153,0.15257406998260153],[0.1553240690463119],[0.16005555351575215],[0.16711110932849066],[0.15331481386914297,0.15331481386914297],[0.14864814632303183,0.14864814632303183,0.14864814632303183],[0.15236110830941688,0.15236110830941688],[0.3011666643903763],[0.15988888488875497],[0.15023703700977345,0.15023703700977345],[0.17543518653649975],[0.15537036815230493],[0.15399999906343442],[0.14855555527408917,0.14855555527408917,0.14855555527408917,0.14855555527408917]],\"times\":[[370.3703703703703],[370.3703703703703,1111.111111111111],[370.3703703703703],[370.3703703703703,1111.111111111111,3333.333333333333],[370.3703703703703],[370.3703703703703],[370.3703703703703],[370.3703703703703],[370.3703703703703],[370.3703703703703],[370.3703703703703],[370.3703703703703,1111.111111111111],[370.3703703703703],[370.3703703703703,1111.111111111111],[370.3703703703703],[370.3703703703703],[370.3703703703703],[370.3703703703703,1111.111111111111],[370.3703703703703,1111.111111111111,3333.333333333333],[370.3703703703703,1111.111111111111],[370.3703703703703],[370.3703703703703],[370.3703703703703,1111.111111111111],[370.3703703703703],[370.3703703703703],[370.3703703703703],[370.3703703703703,1111.111111111111,3333.333333333333,10000.0]],\"x0\":[-4.568256885367656,-2.225387460857541,-4.288924464431657,-3.386948066225369,-5.004892453090127,-5.934144447413594,-5.845860956138669,-5.29822770058243,-3.1345554540811187,-3.689809121861498,-5.994700820241598,-4.289810708481479,-4.097093586583208,-3.3758915317397107,-2.50856162732231,-3.4785466708122312,-3.564904072338999,-2.1782172377325604,-3.2226396709485154,-2.167320161154106,-5.908359386973251,-2.0726497194225675,-3.1910493443868053,-4.895395600996009,-2.099839314233135,-2.9470499234564183,-3.1044775431597484],\"x1\":[5.736977882173517,3.268959395009733,7.029212803864447,3.925099811079604,7.071265377575795,7.586453957249716,6.137117785793536,5.567219026878553,6.604561951137921,3.1520346268185966,6.646799688162819,3.5543189913790942,7.212411944463308,3.502291218692819,3.112415430827482,3.089987808231843,6.834741343594894,6.306970883748824,4.169324708989293,3.3939181384463026,7.874822439706584,3.4145677401886187,5.287257612393029,5.422407600563028,6.376768285060188,6.886735669025111,4.81976198058563],\"x2\":[6.8111048139822525,7.600170627624488,6.350487227739713,7.243657586659798,7.8147010833097905,4.009261099913923,6.637766819851235,7.818215637995868,7.184407999766518,5.56014657054684,7.110654026056044,6.892852304008633,5.460169179629049,7.2670675567955385,6.005108246207165,5.37492777415847,4.212424788329801,6.941435054510421,6.962552808965576,4.630782033159483,5.525457567633449,5.326450283830011,6.234499188250061,5.61468376470329,6.511097897554597,7.771747473910915,7.19772551929233],\"x3\":[-0.8697481256898874,-1.2151520138807768,-1.372283607908066,-3.217143922717527,-3.749419461989746,-3.3851800548501942,-3.5637568155569648,-1.1715439348326862,-0.5694245340503774,-2.0255345131462024,-2.6201792313795518,-0.4214271084797634,-3.2946928433637064,-2.3586603345039796,-1.896002785474122,-1.5306779882750305,-1.5420811438173088,-0.5791331860711453,-3.323074810876958,-1.2777233201389238,-0.06329609060092878,-2.691894277393179,-3.716445135957866,-0.6466968174900862,-1.6536161305788846,-1.103398943246511,-3.7206094673840795],\"x4\":[1.7811161416059575,1.4508580332792467,2.1975467720360586,1.0030824568771899,4.050505975860973,2.9557214669658274,3.473248793146131,2.422674782843629,3.3832728535903605,3.3496210880360167,1.9450963273807997,4.88388923388424,2.5907567612370843,3.974741772696113,3.453263705109443,4.477613067597977,1.2566767336684275,3.89757539011201,1.221109854090113,4.810196371432481,1.9852604172530408,4.96733149771042,1.292916542353833,1.852597896285916,1.4401041362538205,3.9562067674963157,1.6549277509080085],\"x5\":[0.024538176566784198,0.045715542885716554,0.17787364265519412,0.2844401970397685,0.04132921656779309,0.22176431031140376,0.0830576355897481,0.15734075476340348,0.0654843413127158,0.3504219133531324,0.36165872435462293,0.1788800815719016,0.1145942805027762,0.35331695765026544,0.3528381661707875,0.39129941297229504,0.0349095166509551,0.4211396646046739,0.24177568851756337,0.11156502643764005,0.42299823666996655,0.012023248012805687,0.32929659780892184,0.2702860646822989,0.4642318776362902,0.043983305750721846,0.29416864389026165]},\"selected\":{\"id\":\"1242\",\"type\":\"Selection\"},\"selection_policy\":{\"id\":\"1243\",\"type\":\"UnionRenderers\"}},\"id\":\"1153\",\"type\":\"ColumnDataSource\"},{\"attributes\":{},\"id\":\"1244\",\"type\":\"Selection\"},{\"attributes\":{\"args\":{\"cm\":{\"id\":\"1155\",\"type\":\"LinearColorMapper\"},\"source_multiline\":{\"id\":\"1153\",\"type\":\"ColumnDataSource\"},\"source_scatter\":{\"id\":\"1154\",\"type\":\"ColumnDataSource\"}},\"code\":\"\\n            var data_multiline = source_multiline.data;\\n            var data_scatter = source_scatter.data;\\n            var min_perf = 0.14855555527408917;\\n            var max_perf = 0.5455300933924953;\\n            var min_iter = 0;\\n            var max_iter = 0;\\n            if (cb_obj.value == 'performance') {\\n                data_multiline['colors'] = data_multiline['colors_performance'];\\n                data_scatter['colors'] = data_scatter['colors_performance'];\\n                cm.low = min_perf;\\n                cm.high = max_perf;\\n            } else {\\n                data_multiline['colors'] = data_multiline['colors_iteration'];\\n                data_scatter['colors'] = data_scatter['colors_iteration'];\\n                cm.low = min_iter;\\n                cm.high = max_iter;\\n            }\\n            source.change.emit();\\n            \"},\"id\":\"1215\",\"type\":\"CustomJS\"},{\"attributes\":{\"args\":{\"checkbox\":{\"id\":\"1210\",\"type\":\"CheckboxButtonGroup\"},\"glyph_renderer0\":{\"id\":\"1194\",\"type\":\"GlyphRenderer\"},\"glyph_renderer1\":{\"id\":\"1201\",\"type\":\"GlyphRenderer\"},\"glyph_renderer2\":{\"id\":\"1208\",\"type\":\"GlyphRenderer\"}},\"code\":\"var labels = [0]; checkbox.active = labels;len_labels = 1;glyph_renderers = [[glyph_renderer0,glyph_renderer1,glyph_renderer2]];\\n        for (i = 0; i < len_labels; i++) {\\n            if (checkbox.active.includes(i)) {\\n                // console.log('Setting to true: ' + i + '(' + glyph_renderers[i].length + ')')\\n                for (j = 0; j < glyph_renderers[i].length; j++) {\\n                    glyph_renderers[i][j].visible = true;\\n                    // console.log('Setting to true: ' + i + ' : ' + j)\\n                }\\n            } else {\\n                // console.log('Setting to false: ' + i + '(' + glyph_renderers[i].length + ')')\\n                for (j = 0; j < glyph_renderers[i].length; j++) {\\n                    glyph_renderers[i][j].visible = false;\\n                    // console.log('Setting to false: ' + i + ' : ' + j)\\n                }\\n            }\\n        }\\n        \"},\"id\":\"1211\",\"type\":\"CustomJS\"},{\"attributes\":{\"callback\":null,\"data\":{\"HB_iteration\":[\"0\",\"0\",\"0\",\"0\",\"0\",\"0\",\"0\",\"0\",\"0\",\"0\",\"0\",\"0\",\"0\",\"0\",\"0\",\"0\",\"0\",\"0\",\"0\",\"0\",\"0\",\"0\",\"0\",\"0\",\"0\",\"0\",\"0\",\"0\",\"0\",\"0\",\"0\",\"0\",\"0\",\"0\",\"0\",\"0\",\"0\",\"0\",\"0\",\"0\"],\"colors\":[0.15858333182776413,0.15331481914608566,0.15331481914608566,0.15993518462997894,0.149212958931647,0.149212958931647,0.149212958931647,0.18504629904086944,0.5455300933924953,0.3190925920158625,0.16594444480648748,0.1553518520069343,0.1583703684081082,0.2845185162626483,0.15305555473268032,0.15305555473268032,0.1681666661020782,0.15257406998260153,0.15257406998260153,0.1553240690463119,0.16005555351575215,0.16711110932849066,0.15331481386914297,0.15331481386914297,0.14864814632303183,0.14864814632303183,0.14864814632303183,0.15236110830941688,0.15236110830941688,0.3011666643903763,0.15988888488875497,0.15023703700977345,0.15023703700977345,0.17543518653649975,0.15537036815230493,0.15399999906343442,0.14855555527408917,0.14855555527408917,0.14855555527408917,0.14855555527408917],\"colors_iteration\":[0,0,0,0,0,0,0,0,0,0,0,0,0,0,0,0,0,0,0,0,0,0,0,0,0,0,0,0,0,0,0,0,0,0,0,0,0,0,0,0],\"colors_performance\":[0.15858333182776413,0.15331481914608566,0.15331481914608566,0.15993518462997894,0.149212958931647,0.149212958931647,0.149212958931647,0.18504629904086944,0.5455300933924953,0.3190925920158625,0.16594444480648748,0.1553518520069343,0.1583703684081082,0.2845185162626483,0.15305555473268032,0.15305555473268032,0.1681666661020782,0.15257406998260153,0.15257406998260153,0.1553240690463119,0.16005555351575215,0.16711110932849066,0.15331481386914297,0.15331481386914297,0.14864814632303183,0.14864814632303183,0.14864814632303183,0.15236110830941688,0.15236110830941688,0.3011666643903763,0.15988888488875497,0.15023703700977345,0.15023703700977345,0.17543518653649975,0.15537036815230493,0.15399999906343442,0.14855555527408917,0.14855555527408917,0.14855555527408917,0.14855555527408917],\"config_id\":[\"(0, 0, 0)\",\"(0, 0, 1)\",\"(0, 0, 1)\",\"(0, 0, 2)\",\"(0, 0, 3)\",\"(0, 0, 3)\",\"(0, 0, 3)\",\"(0, 0, 4)\",\"(0, 0, 5)\",\"(0, 0, 6)\",\"(0, 0, 7)\",\"(0, 0, 8)\",\"(0, 0, 9)\",\"(0, 0, 10)\",\"(0, 0, 11)\",\"(0, 0, 11)\",\"(0, 0, 12)\",\"(0, 0, 13)\",\"(0, 0, 13)\",\"(0, 0, 14)\",\"(0, 0, 15)\",\"(0, 0, 16)\",\"(0, 0, 17)\",\"(0, 0, 17)\",\"(0, 0, 18)\",\"(0, 0, 18)\",\"(0, 0, 18)\",\"(0, 0, 19)\",\"(0, 0, 19)\",\"(0, 0, 20)\",\"(0, 0, 21)\",\"(0, 0, 22)\",\"(0, 0, 22)\",\"(0, 0, 23)\",\"(0, 0, 24)\",\"(0, 0, 25)\",\"(0, 0, 26)\",\"(0, 0, 26)\",\"(0, 0, 26)\",\"(0, 0, 26)\"],\"config_info\":[\"model_based_pick=False\",\"model_based_pick=False\",\"model_based_pick=False\",\"model_based_pick=False\",\"model_based_pick=False\",\"model_based_pick=False\",\"model_based_pick=False\",\"model_based_pick=False\",\"model_based_pick=False\",\"model_based_pick=False\",\"model_based_pick=False\",\"model_based_pick=False\",\"model_based_pick=False\",\"model_based_pick=False\",\"model_based_pick=False\",\"model_based_pick=False\",\"model_based_pick=False\",\"model_based_pick=False\",\"model_based_pick=False\",\"model_based_pick=True\",\"model_based_pick=True\",\"model_based_pick=False\",\"model_based_pick=False\",\"model_based_pick=False\",\"model_based_pick=True\",\"model_based_pick=True\",\"model_based_pick=True\",\"model_based_pick=False\",\"model_based_pick=False\",\"model_based_pick=False\",\"model_based_pick=True\",\"model_based_pick=True\",\"model_based_pick=True\",\"model_based_pick=False\",\"model_based_pick=True\",\"model_based_pick=False\",\"model_based_pick=True\",\"model_based_pick=True\",\"model_based_pick=True\",\"model_based_pick=True\"],\"duration\":[0.013111114501953125,0.007787227630615234,0.007787227630615234,0.009995698928833008,0.007141828536987305,0.007141828536987305,0.007141828536987305,0.009398937225341797,0.015906333923339844,0.014251470565795898,0.0074689388275146484,0.01061248779296875,0.010033845901489258,0.0071489810943603516,0.006759166717529297,0.006759166717529297,0.009834766387939453,0.006108760833740234,0.006108760833740234,0.007928848266601562,0.00728154182434082,0.007544994354248047,0.006769895553588867,0.006769895553588867,0.007537126541137695,0.007537126541137695,0.007537126541137695,0.00655364990234375,0.00655364990234375,0.0075948238372802734,0.010370492935180664,0.007064104080200195,0.007064104080200195,0.00849294662475586,0.009271621704101562,0.01232767105102539,0.007607221603393555,0.007607221603393555,0.007607221603393555,0.007607221603393555],\"losses\":[0.15858333182776413,0.15331481914608566,0.15331481914608566,0.15993518462997894,0.149212958931647,0.149212958931647,0.149212958931647,0.18504629904086944,0.5455300933924953,0.3190925920158625,0.16594444480648748,0.1553518520069343,0.1583703684081082,0.2845185162626483,0.15305555473268032,0.15305555473268032,0.1681666661020782,0.15257406998260153,0.15257406998260153,0.1553240690463119,0.16005555351575215,0.16711110932849066,0.15331481386914297,0.15331481386914297,0.14864814632303183,0.14864814632303183,0.14864814632303183,0.15236110830941688,0.15236110830941688,0.3011666643903763,0.15988888488875497,0.15023703700977345,0.15023703700977345,0.17543518653649975,0.15537036815230493,0.15399999906343442,0.14855555527408917,0.14855555527408917,0.14855555527408917,0.14855555527408917],\"times\":[370.3703703703703,370.3703703703703,1111.111111111111,370.3703703703703,370.3703703703703,1111.111111111111,3333.333333333333,370.3703703703703,370.3703703703703,370.3703703703703,370.3703703703703,370.3703703703703,370.3703703703703,370.3703703703703,370.3703703703703,1111.111111111111,370.3703703703703,370.3703703703703,1111.111111111111,370.3703703703703,370.3703703703703,370.3703703703703,370.3703703703703,1111.111111111111,370.3703703703703,1111.111111111111,3333.333333333333,370.3703703703703,1111.111111111111,370.3703703703703,370.3703703703703,370.3703703703703,1111.111111111111,370.3703703703703,370.3703703703703,370.3703703703703,370.3703703703703,1111.111111111111,3333.333333333333,10000.0],\"x0\":[-4.568256885367656,-2.225387460857541,-2.225387460857541,-4.288924464431657,-3.386948066225369,-3.386948066225369,-3.386948066225369,-5.004892453090127,-5.934144447413594,-5.845860956138669,-5.29822770058243,-3.1345554540811187,-3.689809121861498,-5.994700820241598,-4.289810708481479,-4.289810708481479,-4.097093586583208,-3.3758915317397107,-3.3758915317397107,-2.50856162732231,-3.4785466708122312,-3.564904072338999,-2.1782172377325604,-2.1782172377325604,-3.2226396709485154,-3.2226396709485154,-3.2226396709485154,-2.167320161154106,-2.167320161154106,-5.908359386973251,-2.0726497194225675,-3.1910493443868053,-3.1910493443868053,-4.895395600996009,-2.099839314233135,-2.9470499234564183,-3.1044775431597484,-3.1044775431597484,-3.1044775431597484,-3.1044775431597484],\"x1\":[5.736977882173517,3.268959395009733,3.268959395009733,7.029212803864447,3.925099811079604,3.925099811079604,3.925099811079604,7.071265377575795,7.586453957249716,6.137117785793536,5.567219026878553,6.604561951137921,3.1520346268185966,6.646799688162819,3.5543189913790942,3.5543189913790942,7.212411944463308,3.502291218692819,3.502291218692819,3.112415430827482,3.089987808231843,6.834741343594894,6.306970883748824,6.306970883748824,4.169324708989293,4.169324708989293,4.169324708989293,3.3939181384463026,3.3939181384463026,7.874822439706584,3.4145677401886187,5.287257612393029,5.287257612393029,5.422407600563028,6.376768285060188,6.886735669025111,4.81976198058563,4.81976198058563,4.81976198058563,4.81976198058563],\"x2\":[6.8111048139822525,7.600170627624488,7.600170627624488,6.350487227739713,7.243657586659798,7.243657586659798,7.243657586659798,7.8147010833097905,4.009261099913923,6.637766819851235,7.818215637995868,7.184407999766518,5.56014657054684,7.110654026056044,6.892852304008633,6.892852304008633,5.460169179629049,7.2670675567955385,7.2670675567955385,6.005108246207165,5.37492777415847,4.212424788329801,6.941435054510421,6.941435054510421,6.962552808965576,6.962552808965576,6.962552808965576,4.630782033159483,4.630782033159483,5.525457567633449,5.326450283830011,6.234499188250061,6.234499188250061,5.61468376470329,6.511097897554597,7.771747473910915,7.19772551929233,7.19772551929233,7.19772551929233,7.19772551929233],\"x3\":[-0.8697481256898874,-1.2151520138807768,-1.2151520138807768,-1.372283607908066,-3.217143922717527,-3.217143922717527,-3.217143922717527,-3.749419461989746,-3.3851800548501942,-3.5637568155569648,-1.1715439348326862,-0.5694245340503774,-2.0255345131462024,-2.6201792313795518,-0.4214271084797634,-0.4214271084797634,-3.2946928433637064,-2.3586603345039796,-2.3586603345039796,-1.896002785474122,-1.5306779882750305,-1.5420811438173088,-0.5791331860711453,-0.5791331860711453,-3.323074810876958,-3.323074810876958,-3.323074810876958,-1.2777233201389238,-1.2777233201389238,-0.06329609060092878,-2.691894277393179,-3.716445135957866,-3.716445135957866,-0.6466968174900862,-1.6536161305788846,-1.103398943246511,-3.7206094673840795,-3.7206094673840795,-3.7206094673840795,-3.7206094673840795],\"x4\":[1.7811161416059575,1.4508580332792467,1.4508580332792467,2.1975467720360586,1.0030824568771899,1.0030824568771899,1.0030824568771899,4.050505975860973,2.9557214669658274,3.473248793146131,2.422674782843629,3.3832728535903605,3.3496210880360167,1.9450963273807997,4.88388923388424,4.88388923388424,2.5907567612370843,3.974741772696113,3.974741772696113,3.453263705109443,4.477613067597977,1.2566767336684275,3.89757539011201,3.89757539011201,1.221109854090113,1.221109854090113,1.221109854090113,4.810196371432481,4.810196371432481,1.9852604172530408,4.96733149771042,1.292916542353833,1.292916542353833,1.852597896285916,1.4401041362538205,3.9562067674963157,1.6549277509080085,1.6549277509080085,1.6549277509080085,1.6549277509080085],\"x5\":[0.024538176566784198,0.045715542885716554,0.045715542885716554,0.17787364265519412,0.2844401970397685,0.2844401970397685,0.2844401970397685,0.04132921656779309,0.22176431031140376,0.0830576355897481,0.15734075476340348,0.0654843413127158,0.3504219133531324,0.36165872435462293,0.1788800815719016,0.1788800815719016,0.1145942805027762,0.35331695765026544,0.35331695765026544,0.3528381661707875,0.39129941297229504,0.0349095166509551,0.4211396646046739,0.4211396646046739,0.24177568851756337,0.24177568851756337,0.24177568851756337,0.11156502643764005,0.11156502643764005,0.42299823666996655,0.012023248012805687,0.32929659780892184,0.32929659780892184,0.2702860646822989,0.4642318776362902,0.043983305750721846,0.29416864389026165,0.29416864389026165,0.29416864389026165,0.29416864389026165]},\"selected\":{\"id\":\"1244\",\"type\":\"Selection\"},\"selection_policy\":{\"id\":\"1245\",\"type\":\"UnionRenderers\"}},\"id\":\"1154\",\"type\":\"ColumnDataSource\"},{\"attributes\":{},\"id\":\"1245\",\"type\":\"UnionRenderers\"},{\"attributes\":{\"callback\":{\"id\":\"1211\",\"type\":\"CustomJS\"},\"icon\":null,\"label\":\"All\"},\"id\":\"1212\",\"type\":\"Button\"},{\"attributes\":{\"high\":0.5455300933924953,\"low\":0.14855555527408917,\"palette\":[\"#5e4fa2\",\"#3288bd\",\"#66c2a5\",\"#abdda4\",\"#e6f598\",\"#ffffbf\",\"#fee08b\",\"#fdae61\",\"#f46d43\",\"#d53e4f\",\"#9e0142\"]},\"id\":\"1155\",\"type\":\"LinearColorMapper\"},{\"attributes\":{\"column_name\":\"HB_iteration\",\"group\":\"0\"},\"id\":\"1202\",\"type\":\"GroupFilter\"},{\"attributes\":{\"args\":{\"checkbox\":{\"id\":\"1210\",\"type\":\"CheckboxButtonGroup\"},\"glyph_renderer0\":{\"id\":\"1194\",\"type\":\"GlyphRenderer\"},\"glyph_renderer1\":{\"id\":\"1201\",\"type\":\"GlyphRenderer\"},\"glyph_renderer2\":{\"id\":\"1208\",\"type\":\"GlyphRenderer\"}},\"code\":\"var labels = []; checkbox.active = labels;len_labels = 1;glyph_renderers = [[glyph_renderer0,glyph_renderer1,glyph_renderer2]];\\n        for (i = 0; i < len_labels; i++) {\\n            if (checkbox.active.includes(i)) {\\n                // console.log('Setting to true: ' + i + '(' + glyph_renderers[i].length + ')')\\n                for (j = 0; j < glyph_renderers[i].length; j++) {\\n                    glyph_renderers[i][j].visible = true;\\n                    // console.log('Setting to true: ' + i + ' : ' + j)\\n                }\\n            } else {\\n                // console.log('Setting to false: ' + i + '(' + glyph_renderers[i].length + ')')\\n                for (j = 0; j < glyph_renderers[i].length; j++) {\\n                    glyph_renderers[i][j].visible = false;\\n                    // console.log('Setting to false: ' + i + ' : ' + j)\\n                }\\n            }\\n        }\\n        \"},\"id\":\"1213\",\"type\":\"CustomJS\"},{\"attributes\":{\"bounds\":\"auto\",\"callback\":null,\"end\":10962.962962962964,\"start\":-592.5925925925926},\"id\":\"1156\",\"type\":\"Range1d\"},{\"attributes\":{\"data_source\":{\"id\":\"1154\",\"type\":\"ColumnDataSource\"},\"glyph\":{\"id\":\"1199\",\"type\":\"CircleX\"},\"hover_glyph\":null,\"muted_glyph\":null,\"nonselection_glyph\":{\"id\":\"1200\",\"type\":\"CircleX\"},\"selection_glyph\":null,\"view\":{\"id\":\"1197\",\"type\":\"CDSView\"}},\"id\":\"1201\",\"type\":\"GlyphRenderer\"},{\"attributes\":{\"fill_alpha\":{\"value\":0.1},\"fill_color\":{\"value\":\"#1f77b4\"},\"line_alpha\":{\"value\":0.1},\"line_color\":{\"value\":\"#1f77b4\"},\"size\":{\"units\":\"screen\",\"value\":20},\"x\":{\"field\":\"times\"},\"y\":{\"field\":\"losses\"}},\"id\":\"1200\",\"type\":\"CircleX\"},{\"attributes\":{\"callback\":{\"id\":\"1213\",\"type\":\"CustomJS\"},\"icon\":null,\"label\":\"None\"},\"id\":\"1214\",\"type\":\"Button\"},{\"attributes\":{\"bounds\":\"auto\",\"callback\":null,\"end\":0.9425046315109014,\"start\":0.13369999974668026},\"id\":\"1157\",\"type\":\"Range1d\"},{\"attributes\":{\"below\":[{\"id\":\"1165\",\"type\":\"LinearAxis\"}],\"left\":[{\"id\":\"1170\",\"type\":\"LogAxis\"}],\"plot_height\":500,\"renderers\":[{\"id\":\"1165\",\"type\":\"LinearAxis\"},{\"id\":\"1169\",\"type\":\"Grid\"},{\"id\":\"1170\",\"type\":\"LogAxis\"},{\"id\":\"1174\",\"type\":\"Grid\"},{\"id\":\"1184\",\"type\":\"BoxAnnotation\"},{\"id\":\"1194\",\"type\":\"GlyphRenderer\"},{\"id\":\"1201\",\"type\":\"GlyphRenderer\"},{\"id\":\"1208\",\"type\":\"GlyphRenderer\"}],\"title\":{\"id\":\"1236\",\"type\":\"Title\"},\"toolbar\":{\"id\":\"1180\",\"type\":\"Toolbar\"},\"x_range\":{\"id\":\"1156\",\"type\":\"Range1d\"},\"x_scale\":{\"id\":\"1161\",\"type\":\"LinearScale\"},\"y_range\":{\"id\":\"1157\",\"type\":\"Range1d\"},\"y_scale\":{\"id\":\"1163\",\"type\":\"LogScale\"}},\"id\":\"1158\",\"subtype\":\"Figure\",\"type\":\"Plot\"},{\"attributes\":{\"callback\":{\"id\":\"1215\",\"type\":\"CustomJS\"},\"options\":[\"performance\",\"iteration\"],\"title\":\"Select colors\",\"value\":\"performance\"},\"id\":\"1216\",\"type\":\"Select\"},{\"attributes\":{\"children\":[{\"id\":\"1210\",\"type\":\"CheckboxButtonGroup\"}],\"width\":400},\"id\":\"1217\",\"type\":\"WidgetBox\"},{\"attributes\":{},\"id\":\"1161\",\"type\":\"LinearScale\"},{\"attributes\":{\"plot\":{\"id\":\"1158\",\"subtype\":\"Figure\",\"type\":\"Plot\"},\"ticker\":{\"id\":\"1166\",\"type\":\"BasicTicker\"}},\"id\":\"1169\",\"type\":\"Grid\"},{\"attributes\":{},\"id\":\"1163\",\"type\":\"LogScale\"},{\"attributes\":{\"children\":[{\"id\":\"1212\",\"type\":\"Button\"}],\"width\":50},\"id\":\"1218\",\"type\":\"WidgetBox\"},{\"attributes\":{\"dimension\":1,\"plot\":{\"id\":\"1158\",\"subtype\":\"Figure\",\"type\":\"Plot\"},\"ticker\":{\"id\":\"1171\",\"type\":\"LogTicker\"}},\"id\":\"1174\",\"type\":\"Grid\"},{\"attributes\":{\"axis_label\":\"Cost\",\"formatter\":{\"id\":\"1240\",\"type\":\"LogTickFormatter\"},\"plot\":{\"id\":\"1158\",\"subtype\":\"Figure\",\"type\":\"Plot\"},\"ticker\":{\"id\":\"1171\",\"type\":\"LogTicker\"}},\"id\":\"1170\",\"type\":\"LogAxis\"},{\"attributes\":{\"num_minor_ticks\":10},\"id\":\"1171\",\"type\":\"LogTicker\"},{\"attributes\":{\"axis_label\":\"Time\",\"formatter\":{\"id\":\"1238\",\"type\":\"BasicTickFormatter\"},\"plot\":{\"id\":\"1158\",\"subtype\":\"Figure\",\"type\":\"Plot\"},\"ticker\":{\"id\":\"1166\",\"type\":\"BasicTicker\"}},\"id\":\"1165\",\"type\":\"LinearAxis\"},{\"attributes\":{\"children\":[{\"id\":\"1217\",\"type\":\"WidgetBox\"},{\"id\":\"1220\",\"type\":\"Row\"},{\"id\":\"1221\",\"type\":\"WidgetBox\"}]},\"id\":\"1222\",\"type\":\"Column\"},{\"attributes\":{\"line_alpha\":{\"value\":0.1},\"line_color\":{\"value\":\"#1f77b4\"},\"line_width\":{\"value\":5},\"xs\":{\"field\":\"times\"},\"ys\":{\"field\":\"losses\"}},\"id\":\"1193\",\"type\":\"MultiLine\"},{\"attributes\":{\"children\":[{\"id\":\"1214\",\"type\":\"Button\"}],\"width\":50},\"id\":\"1219\",\"type\":\"WidgetBox\"},{\"attributes\":{\"children\":[{\"id\":\"1218\",\"type\":\"WidgetBox\"},{\"id\":\"1219\",\"type\":\"WidgetBox\"}]},\"id\":\"1220\",\"type\":\"Row\"},{\"attributes\":{},\"id\":\"1166\",\"type\":\"BasicTicker\"},{\"attributes\":{\"children\":[{\"id\":\"1216\",\"type\":\"Select\"}],\"width\":200},\"id\":\"1221\",\"type\":\"WidgetBox\"},{\"attributes\":{\"line_alpha\":{\"value\":0.5},\"line_color\":{\"field\":\"colors\",\"transform\":{\"id\":\"1155\",\"type\":\"LinearColorMapper\"}},\"line_width\":{\"value\":5},\"xs\":{\"field\":\"times\"},\"ys\":{\"field\":\"losses\"}},\"id\":\"1192\",\"type\":\"MultiLine\"},{\"attributes\":{\"column_name\":\"config_info\",\"group\":\"model_based_pick=False\"},\"id\":\"1203\",\"type\":\"GroupFilter\"},{\"attributes\":{\"data_source\":{\"id\":\"1153\",\"type\":\"ColumnDataSource\"},\"glyph\":{\"id\":\"1192\",\"type\":\"MultiLine\"},\"hover_glyph\":null,\"muted_glyph\":null,\"nonselection_glyph\":{\"id\":\"1193\",\"type\":\"MultiLine\"},\"selection_glyph\":null,\"view\":{\"id\":\"1190\",\"type\":\"CDSView\"}},\"id\":\"1194\",\"type\":\"GlyphRenderer\"},{\"attributes\":{\"column_name\":\"HB_iteration\",\"group\":\"0\"},\"id\":\"1189\",\"type\":\"GroupFilter\"},{\"attributes\":{\"args\":{\"glyph_renderer0\":{\"id\":\"1194\",\"type\":\"GlyphRenderer\"},\"glyph_renderer1\":{\"id\":\"1201\",\"type\":\"GlyphRenderer\"},\"glyph_renderer2\":{\"id\":\"1208\",\"type\":\"GlyphRenderer\"}},\"code\":\"len_labels = 1;glyph_renderers = [[glyph_renderer0,glyph_renderer1,glyph_renderer2]];\\n        for (i = 0; i < len_labels; i++) {\\n            if (cb_obj.active.includes(i)) {\\n                // console.log('Setting to true: ' + i + '(' + glyph_renderers[i].length + ')')\\n                for (j = 0; j < glyph_renderers[i].length; j++) {\\n                    glyph_renderers[i][j].visible = true;\\n                    // console.log('Setting to true: ' + i + ' : ' + j)\\n                }\\n            } else {\\n                // console.log('Setting to false: ' + i + '(' + glyph_renderers[i].length + ')')\\n                for (j = 0; j < glyph_renderers[i].length; j++) {\\n                    glyph_renderers[i][j].visible = false;\\n                    // console.log('Setting to false: ' + i + ' : ' + j)\\n                }\\n            }\\n        }\\n        \"},\"id\":\"1209\",\"type\":\"CustomJS\"},{\"attributes\":{\"active_drag\":\"auto\",\"active_inspect\":\"auto\",\"active_multi\":null,\"active_scroll\":\"auto\",\"active_tap\":\"auto\",\"tools\":[{\"id\":\"1152\",\"type\":\"HoverTool\"},{\"id\":\"1175\",\"type\":\"SaveTool\"},{\"id\":\"1176\",\"type\":\"PanTool\"},{\"id\":\"1177\",\"type\":\"WheelZoomTool\"},{\"id\":\"1178\",\"type\":\"BoxZoomTool\"},{\"id\":\"1179\",\"type\":\"ResetTool\"}]},\"id\":\"1180\",\"type\":\"Toolbar\"},{\"attributes\":{\"filters\":[{\"id\":\"1202\",\"type\":\"GroupFilter\"},{\"id\":\"1203\",\"type\":\"GroupFilter\"}],\"source\":{\"id\":\"1154\",\"type\":\"ColumnDataSource\"}},\"id\":\"1204\",\"type\":\"CDSView\"},{\"attributes\":{},\"id\":\"1175\",\"type\":\"SaveTool\"}],\"root_ids\":[\"1223\"]},\"title\":\"Bokeh Application\",\"version\":\"1.0.1\"}};\n",
       "  var render_items = [{\"docid\":\"d2d9861a-17d9-4377-8f89-fabff2ad6c30\",\"roots\":{\"1223\":\"65bc6104-a021-4c17-9fb8-311c768cc9ec\"}}];\n",
       "  root.Bokeh.embed.embed_items_notebook(docs_json, render_items);\n",
       "\n",
       "  }\n",
       "  if (root.Bokeh !== undefined) {\n",
       "    embed_document(root);\n",
       "  } else {\n",
       "    var attempts = 0;\n",
       "    var timer = setInterval(function(root) {\n",
       "      if (root.Bokeh !== undefined) {\n",
       "        embed_document(root);\n",
       "        clearInterval(timer);\n",
       "      }\n",
       "      attempts++;\n",
       "      if (attempts > 100) {\n",
       "        console.log(\"Bokeh: ERROR: Unable to run BokehJS code because BokehJS library is missing\");\n",
       "        clearInterval(timer);\n",
       "      }\n",
       "    }, 10, root)\n",
       "  }\n",
       "})(window);"
      ],
      "application/vnd.bokehjs_exec.v0+json": ""
     },
     "metadata": {
      "application/vnd.bokehjs_exec.v0+json": {
       "id": "1223"
      }
     },
     "output_type": "display_data"
    },
    {
     "data": {
      "text/plain": [
       "<cave.analyzer.bohb_learning_curves.BohbLearningCurves at 0x7fafb40c1cf8>"
      ]
     },
     "execution_count": 17,
     "metadata": {},
     "output_type": "execute_result"
    }
   ],
   "source": [
    "cave.bohb_learning_curves()"
   ]
  },
  {
   "cell_type": "markdown",
   "metadata": {},
   "source": [
    "We can access the individual budgets via the 'run'-keyword-argument of each analysis-method."
   ]
  },
  {
   "cell_type": "code",
   "execution_count": 13,
   "metadata": {
    "scrolled": false
   },
   "outputs": [
    {
     "data": {
      "text/html": [
       "<table border=\"1\" class=\"dataframe\">\n",
       "  <tbody>\n",
       "    <tr>\n",
       "      <th># aggregated parallel BOHB runs</th>\n",
       "      <td>1</td>\n",
       "    </tr>\n",
       "    <tr>\n",
       "      <th># parameters</th>\n",
       "      <td>6</td>\n",
       "    </tr>\n",
       "    <tr>\n",
       "      <th>Deterministic target algorithm</th>\n",
       "      <td>True</td>\n",
       "    </tr>\n",
       "    <tr>\n",
       "      <th>Optimized run objective</th>\n",
       "      <td>quality</td>\n",
       "    </tr>\n",
       "  </tbody>\n",
       "</table> <table border=\"1\" class=\"dataframe\">\n",
       "  <thead>\n",
       "    <tr style=\"text-align: left;\">\n",
       "      <th></th>\n",
       "      <th>budget 370.3703703703703</th>\n",
       "      <th>budget 1111.111111111111</th>\n",
       "      <th>budget 3333.333333333333</th>\n",
       "      <th>budget 10000</th>\n",
       "    </tr>\n",
       "  </thead>\n",
       "  <tbody>\n",
       "    <tr>\n",
       "      <th>Total time spent evaluating configurations</th>\n",
       "      <td>0.26 sec</td>\n",
       "      <td>0.06 sec</td>\n",
       "      <td>0.02 sec</td>\n",
       "      <td>0.01 sec</td>\n",
       "    </tr>\n",
       "    <tr>\n",
       "      <th>Average time per configuration (mean / std)</th>\n",
       "      <td>0.01 sec (±  0.00)</td>\n",
       "      <td>0.01 sec (±  0.00)</td>\n",
       "      <td>0.01 sec (±  0.00)</td>\n",
       "      <td>0.01 sec (±  0.00)</td>\n",
       "    </tr>\n",
       "    <tr>\n",
       "      <th># evaluated configurations</th>\n",
       "      <td>27</td>\n",
       "      <td>9</td>\n",
       "      <td>3</td>\n",
       "      <td>1</td>\n",
       "    </tr>\n",
       "    <tr>\n",
       "      <th># changed parameters (default to incumbent)</th>\n",
       "      <td>6</td>\n",
       "      <td>6</td>\n",
       "      <td>6</td>\n",
       "      <td>6</td>\n",
       "    </tr>\n",
       "    <tr>\n",
       "      <th>Configuration origins</th>\n",
       "      <td>Random : 20, Acquisition Function : 7</td>\n",
       "      <td>Random : 6, Acquisition Function : 3</td>\n",
       "      <td>Random : 1, Acquisition Function : 2</td>\n",
       "      <td>Acquisition Function : 1</td>\n",
       "    </tr>\n",
       "  </tbody>\n",
       "</table>"
      ],
      "text/plain": [
       "<IPython.core.display.HTML object>"
      ]
     },
     "metadata": {},
     "output_type": "display_data"
    },
    {
     "data": {
      "text/plain": [
       "<cave.analyzer.overview_table.OverviewTable at 0x7fafb40d85f8>"
      ]
     },
     "execution_count": 13,
     "metadata": {},
     "output_type": "execute_result"
    }
   ],
   "source": [
    "cave.overview_table()"
   ]
  },
  {
   "cell_type": "markdown",
   "metadata": {},
   "source": [
    "For each budget, we can list the cost over incumbents:"
   ]
  },
  {
   "cell_type": "code",
   "execution_count": null,
   "metadata": {
    "scrolled": false
   },
   "outputs": [],
   "source": [
    "cave.bohb_incumbents_per_budget()"
   ]
  },
  {
   "cell_type": "markdown",
   "metadata": {},
   "source": [
    "For parameter-importance analysis, CAVE uses <a href=\"https://github.com/automl/ParameterImportance\" target=\"_blank\">PIMP</a> , a package that provides multiple approaches to parameter-importance analysis. We can easily invoke them via CAVE, of course. To estimate the importance, random forests are used to predict performances of configurations that were not executed. This is difficult for big budgets with few configurations."
   ]
  },
  {
   "cell_type": "code",
   "execution_count": 14,
   "metadata": {
    "scrolled": false
   },
   "outputs": [
    {
     "ename": "ValueError",
     "evalue": "You are using a configurator that uses budgets. Please specify one of the following runs as a 'run=' keyword-argument: ['budget_370.3703703703703', 'budget_1111.111111111111', 'budget_3333.333333333333', 'budget_10000']",
     "output_type": "error",
     "traceback": [
      "\u001b[0;31m---------------------------------------------------------------------------\u001b[0m",
      "\u001b[0;31mValueError\u001b[0m                                Traceback (most recent call last)",
      "\u001b[0;32m<ipython-input-14-9377ab8fb459>\u001b[0m in \u001b[0;36m<module>\u001b[0;34m\u001b[0m\n\u001b[0;32m----> 1\u001b[0;31m \u001b[0mcave\u001b[0m\u001b[0;34m.\u001b[0m\u001b[0mcave_fanova\u001b[0m\u001b[0;34m(\u001b[0m\u001b[0;34m'budget_1000.0'\u001b[0m\u001b[0;34m)\u001b[0m\u001b[0;34m\u001b[0m\u001b[0;34m\u001b[0m\u001b[0m\n\u001b[0m",
      "\u001b[0;32m~/Repos/BOHBsCAVE/.ve_BOHBsCAVE/lib/python3.6/site-packages/cave/cavefacade.py\u001b[0m in \u001b[0;36mwrap\u001b[0;34m(self, d, *args, **kw)\u001b[0m\n\u001b[1;32m     92\u001b[0m             \u001b[0;32melse\u001b[0m\u001b[0;34m:\u001b[0m\u001b[0;34m\u001b[0m\u001b[0;34m\u001b[0m\u001b[0m\n\u001b[1;32m     93\u001b[0m                 raise ValueError(\"You are using a configurator that uses budgets. Please specify one of the following \"\n\u001b[0;32m---> 94\u001b[0;31m                                  \"runs as a 'run=' keyword-argument: %s\" % (str(list(self.folder_to_run.keys()))),)\n\u001b[0m\u001b[1;32m     95\u001b[0m         \u001b[0;32melse\u001b[0m\u001b[0;34m:\u001b[0m\u001b[0;34m\u001b[0m\u001b[0;34m\u001b[0m\u001b[0m\n\u001b[1;32m     96\u001b[0m             \u001b[0;31m# Use aggregated objects\u001b[0m\u001b[0;34m\u001b[0m\u001b[0;34m\u001b[0m\u001b[0;34m\u001b[0m\u001b[0m\n",
      "\u001b[0;31mValueError\u001b[0m: You are using a configurator that uses budgets. Please specify one of the following runs as a 'run=' keyword-argument: ['budget_370.3703703703703', 'budget_1111.111111111111', 'budget_3333.333333333333', 'budget_10000']"
     ]
    }
   ],
   "source": [
    "cave.cave_fanova('budget_1000.0')"
   ]
  },
  {
   "cell_type": "code",
   "execution_count": null,
   "metadata": {
    "scrolled": false
   },
   "outputs": [],
   "source": [
    "cave.local_parameter_importance(run='budget_1000.0')"
   ]
  },
  {
   "cell_type": "markdown",
   "metadata": {},
   "source": [
    "For each budget, we can compare the different parameter-importance-methods that have already been run:"
   ]
  },
  {
   "cell_type": "code",
   "execution_count": null,
   "metadata": {
    "scrolled": true
   },
   "outputs": [],
   "source": [
    "cave.pimp_comparison_table(run='budget_1000.0')"
   ]
  },
  {
   "cell_type": "markdown",
   "metadata": {},
   "source": [
    "To analyze BOHB's behaviour, we can check out the configurator footprint, cost-over-time and parallel coordinated parameters:"
   ]
  },
  {
   "cell_type": "code",
   "execution_count": null,
   "metadata": {
    "scrolled": false
   },
   "outputs": [],
   "source": [
    "cave.configurator_footprint(use_timeslider=True, num_quantiles=5)"
   ]
  },
  {
   "cell_type": "code",
   "execution_count": null,
   "metadata": {
    "scrolled": false
   },
   "outputs": [],
   "source": [
    "cave.cost_over_time()"
   ]
  },
  {
   "cell_type": "code",
   "execution_count": null,
   "metadata": {
    "scrolled": true
   },
   "outputs": [],
   "source": [
    "cave.parallel_coordinates(run='budget_1000.0')"
   ]
  },
  {
   "cell_type": "code",
   "execution_count": null,
   "metadata": {},
   "outputs": [],
   "source": []
  }
 ],
 "metadata": {
  "kernelspec": {
   "display_name": "BOHBsCAVE",
   "language": "python",
   "name": "bohbscave"
  },
  "language_info": {
   "codemirror_mode": {
    "name": "ipython",
    "version": 3
   },
   "file_extension": ".py",
   "mimetype": "text/x-python",
   "name": "python",
   "nbconvert_exporter": "python",
   "pygments_lexer": "ipython3",
   "version": "3.6.7"
  }
 },
 "nbformat": 4,
 "nbformat_minor": 2
}
