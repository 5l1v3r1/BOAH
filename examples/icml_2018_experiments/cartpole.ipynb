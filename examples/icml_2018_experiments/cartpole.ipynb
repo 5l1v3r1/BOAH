{
 "cells": [
  {
   "cell_type": "markdown",
   "metadata": {},
   "source": [
    "# Running the ICML 2018 Experiments"
   ]
  },
  {
   "cell_type": "markdown",
   "metadata": {},
   "source": [
    "In this series of notebooks, we will replicate and analyze the ICML 2018 experiments that where used for benchmarking in <a href=\"http://proceedings.mlr.press/v80/falkner18a.html\" target=\"_blank\">BOHB (Falkner et al. 2018)</a>.\n",
    "In addition to <a href=\"https://github.com/automl/HpBandSter\" target=\"_blank\">HpBandSter</a>, we will use <a href=\"https://github.com/automl/CAVE\" target=\"_blank\">CAVE</a> to analyze and visualize the optimization process."
   ]
  },
  {
   "cell_type": "markdown",
   "metadata": {},
   "source": [
    "## About the frameworks\n",
    "\n",
    "### Cartpole\n",
    "\n",
    "This experiment optimizes <a href=\"https://gym.openai.com/envs/CartPole-v0/\" target=\"_blank\">Cartpole</a> (TODO: add info)\n",
    "\n",
    "### Installation requirements\n",
    "\n",
    "Make sure you installed both, `requirements.txt` and `examples/icml_2018_experiments` (e.g. using `pip install -r PATH_FILE`)."
   ]
  },
  {
   "cell_type": "markdown",
   "metadata": {},
   "source": [
    "## Run the experiment\n"
   ]
  },
  {
   "cell_type": "code",
   "execution_count": 6,
   "metadata": {},
   "outputs": [],
   "source": [
    "# We deactivate logging to ensure readability\n",
    "import logging\n",
    "logging.basicConfig(level=logging.ERROR)\n",
    "# Also, we suppress warnings.\n",
    "# If there are problems for you executing this notebook, you might want to comment this out.\n",
    "import warnings\n",
    "warnings.filterwarnings(\"ignore\")"
   ]
  },
  {
   "cell_type": "markdown",
   "metadata": {},
   "source": [
    "### 1.1) Preparing BOHB\n",
    "*Worker*: We need a <a href=\"https://automl.github.io/HpBandSter/build/html/core/worker.html\" target=\"_blank\">Worker</a> to define the kind of computation we want to optimize. The worker used for the experiments is located in `workers/cartpole_worker.py`\n",
    "\n",
    "*ConfigSpace*: Every problem needs a description of the search space to be complete. In HpBandSter, a ConfigurationSpace-object defines all hyperparameters, their ranges and dependencies between them.\n",
    "\n",
    "In our example here, the search space consists of the hyperparameters:\n",
    "\n",
    "\n",
    "|  Name     |  Type   |      Values  |\n",
    "|:---------:|:-------:|:------------:|\n",
    "| burn_in   | float   | [0.0, 0.8]   |\n",
    "| l_rate    | float   | [1e-06, 0.1] |\n",
    "| mdecay    | float   | [0.0, 1.0]   |\n",
    "| n_units_1 | float   | [16, 512]    |\n",
    "| n_units_2 | float   | [16, 512]    |"
   ]
  },
  {
   "cell_type": "code",
   "execution_count": 9,
   "metadata": {
    "scrolled": false
   },
   "outputs": [],
   "source": [
    "from workers.cartpole import CartpoleReducedWorker as CartpoleWorker"
   ]
  },
  {
   "cell_type": "markdown",
   "metadata": {
    "scrolled": false
   },
   "source": [
    "### 1.3) Setting up the HpBandSter Nameserver and starting the optimization run"
   ]
  },
  {
   "cell_type": "code",
   "execution_count": 10,
   "metadata": {},
   "outputs": [],
   "source": [
    "import os\n",
    "\n",
    "opt_method=\"bohb\"\n",
    "output_dir = \"results/cartpole/\"  # This is the destination for the BOHB-results\n",
    "num_iterations = 1  # 16\n",
    "\n",
    "if not os.path.exists(output_dir):\n",
    "    os.makedirs(output_dir)"
   ]
  },
  {
   "cell_type": "markdown",
   "metadata": {},
   "source": [
    "#### Step 1 - initiating communication, creating a nameserver:\n",
    "The <a href=\"https://automl.github.io/HpBandSter/build/html/core/nameserver.html\" target=\"_blank\">nameserver</a> is a small service that keeps track of all running processes and their IP addresses and ports. It could be a 'static' server with a permanent address, but here it will be started for the local machine with a random port. "
   ]
  },
  {
   "cell_type": "code",
   "execution_count": 11,
   "metadata": {},
   "outputs": [],
   "source": [
    "import hpbandster.core.nameserver as hpns\n",
    "import hpbandster.core.result as hpres\n",
    "from hpbandster.optimizers import BOHB, RandomSearch, HyperBand\n",
    "\n",
    "run_id = '0'  # Every run has to have a unique (at runtime) id.\n",
    "\n",
    "# setup a nameserver\n",
    "NS = hpns.NameServer(run_id=run_id, host='localhost', port=0, working_directory=output_dir)\n",
    "ns_host, ns_port = NS.start()"
   ]
  },
  {
   "cell_type": "markdown",
   "metadata": {},
   "source": [
    "#### Step 2 - creating the worker: \n",
    "The worker implements the actual problem that is optimized. Its 'compute'-method will be called later by the BOHB-optimizer repeatedly with the sampled configurations and return the computed loss (and additional information)."
   ]
  },
  {
   "cell_type": "code",
   "execution_count": 12,
   "metadata": {},
   "outputs": [],
   "source": [
    "worker = CartpoleWorker(measure_test_loss=False, run_id=run_id)\n",
    "configspace = worker.configspace\n",
    "\n",
    "worker.load_nameserver_credentials(output_dir)\n",
    "worker.run(background=True)"
   ]
  },
  {
   "cell_type": "markdown",
   "metadata": {},
   "source": [
    "#### Step 3:  \n",
    "Create an optimizer object, which samples configurations from the ConfigurationSpace, using succesive halving to assign budgets for execution. Further information on what qualifies as a budget <a href=\"https://automl.github.io/HpBandSter/build/html/quickstart.html#meaningful-budgets-and-number-of-iterations\" target=\"_blank\">can be found in the documentation.</a>\n",
    "\n",
    "**NOTE:** BOHB does not build a new model at the beginning of every SuccessiveHalving run. Instead it collects all evaluations on all budgets and uses the largest budget with enough evaluations as a base for future evaluations.  "
   ]
  },
  {
   "cell_type": "code",
   "execution_count": null,
   "metadata": {},
   "outputs": [],
   "source": [
    "%%capture\n",
    "eta = 3\n",
    "opt = None\n",
    "\n",
    "if opt_method == 'randomsearch':\n",
    "    opt = RandomSearch      \n",
    "elif opt_method == 'bohb':\n",
    "    opt = BOHB              \n",
    "elif opt_method == 'hyperband':\n",
    "    opt = HyperBand\n",
    "else:\n",
    "    raise ValueError(\"Unknown method %s\" % opt_method)\n",
    "\n",
    "result_logger = hpres.json_result_logger(directory=output_dir, overwrite=True)\n",
    "\n",
    "opt = opt(configspace, eta=3,\n",
    "          working_directory=output_dir\n",
    "          run_id=run_id,\n",
    "          min_budget=300, max_budget=10000,\n",
    "          host=ns_host,\n",
    "          nameserver=ns_host,\n",
    "          nameserver_port = ns_port,\n",
    "          ping_interval=3600,\n",
    "          result_logger=result_logger)\n",
    "\n",
    "result = opt.run(n_iterations=num_iterations)"
   ]
  },
  {
   "cell_type": "markdown",
   "metadata": {},
   "source": [
    "**NOTE:** Unfortunately, the configuration space is *not saved automatically* to file but this step is mandatory for the analysis with CAVE.  \n",
    "We recommend to save the configuration space every time you use BOHB.\n",
    "We do this by using the ConfigSpace-to-json-writer."
   ]
  },
  {
   "cell_type": "code",
   "execution_count": null,
   "metadata": {},
   "outputs": [],
   "source": [
    "from ConfigSpace.read_and_write import pcs_new\n",
    "with open(os.path.join(output_dir, 'configspace.pcs'), 'w') as fh:\n",
    "    fh.write(pcs_new.write(opt.config_generator.configspace))"
   ]
  },
  {
   "cell_type": "markdown",
   "metadata": {},
   "source": [
    "The <a href=\"https://automl.github.io/HpBandSter/build/html/core/result.html\" target=\"_blank\">Result-object</a> offers access to basic statistics, as well as the best configuration (incumbent) and the trajectory."
   ]
  },
  {
   "cell_type": "markdown",
   "metadata": {},
   "source": [
    "## Using the results in CAVE\n",
    "\n",
    "### 2.1) Creating a HTML-report with CAVE\n",
    "\n",
    "Creating the report with CAVE is very straight-forward. Simply provide the output-directory of the BOHB-analysis in CAVE's `--folders` argument and specify `--file_format` as `BOHB`. You can do this by commandline ('!' simply executes the command as if it was executed on the command line):\n"
   ]
  },
  {
   "cell_type": "code",
   "execution_count": null,
   "metadata": {
    "scrolled": false
   },
   "outputs": [],
   "source": [
    "%%capture\n",
    "! cave --folders results/bnn --file_format BOHB --output CAVE_reports/cartpole_bash --verbose_level OFF"
   ]
  },
  {
   "cell_type": "markdown",
   "metadata": {},
   "source": [
    "After CAVE finished the report, you can have a look at it with your favorite browser."
   ]
  },
  {
   "cell_type": "code",
   "execution_count": null,
   "metadata": {
    "scrolled": false
   },
   "outputs": [],
   "source": [
    "! firefox ./CAVE_reports/cartpole_bash/report.html"
   ]
  },
  {
   "cell_type": "markdown",
   "metadata": {},
   "source": [
    "### 2.2) Using CAVE from within Python\n",
    "\n",
    "Of course you can use CAVE on a module-level. Import and instantiate it (very similarily to the commandline). By default, CAVE even outputs all analysis results in a jupyter-cell-compatible way. Of course, the HTML-report is built meanwhile, so you don't have to run time-consuming analyzing-methods repeatedly."
   ]
  },
  {
   "cell_type": "code",
   "execution_count": null,
   "metadata": {
    "scrolled": false
   },
   "outputs": [],
   "source": [
    "from cave.cavefacade import CAVE\n",
    "\n",
    "cave = CAVE(folders=[output_dir],\n",
    "            output_dir=\"CAVE_reports/cartpole_notebook\",\n",
    "            ta_exec_dir=[\".\"],\n",
    "            file_format='BOHB',\n",
    "            verbose_level='OFF',\n",
    "            show_jupyter=True\n",
    "           )"
   ]
  },
  {
   "cell_type": "markdown",
   "metadata": {},
   "source": [
    "The most interesting plot for BOHB might be a visualization of the learning curves:"
   ]
  },
  {
   "cell_type": "code",
   "execution_count": null,
   "metadata": {
    "scrolled": false
   },
   "outputs": [],
   "source": [
    "cave.bohb_learning_curves()"
   ]
  },
  {
   "cell_type": "markdown",
   "metadata": {},
   "source": [
    "We can access the individual budgets via the 'run'-keyword-argument of each analysis-method."
   ]
  },
  {
   "cell_type": "code",
   "execution_count": null,
   "metadata": {
    "scrolled": false
   },
   "outputs": [],
   "source": [
    "cave.overview_table()"
   ]
  },
  {
   "cell_type": "markdown",
   "metadata": {},
   "source": [
    "For each budget, we can list the cost over incumbents:"
   ]
  },
  {
   "cell_type": "code",
   "execution_count": null,
   "metadata": {
    "scrolled": false
   },
   "outputs": [],
   "source": [
    "cave.bohb_incumbents_per_budget()"
   ]
  },
  {
   "cell_type": "markdown",
   "metadata": {},
   "source": [
    "For parameter-importance analysis, CAVE uses <a href=\"https://github.com/automl/ParameterImportance\" target=\"_blank\">PIMP</a> , a package that provides multiple approaches to parameter-importance analysis. We can easily invoke them via CAVE, of course. To estimate the importance, random forests are used to predict performances of configurations that were not executed. This is difficult for big budgets with few configurations."
   ]
  },
  {
   "cell_type": "code",
   "execution_count": null,
   "metadata": {
    "scrolled": false
   },
   "outputs": [],
   "source": [
    "cave.cave_fanova('budget_1000.0')"
   ]
  },
  {
   "cell_type": "code",
   "execution_count": null,
   "metadata": {
    "scrolled": false
   },
   "outputs": [],
   "source": [
    "cave.local_parameter_importance(run='budget_1000.0')"
   ]
  },
  {
   "cell_type": "markdown",
   "metadata": {},
   "source": [
    "For each budget, we can compare the different parameter-importance-methods that have already been run:"
   ]
  },
  {
   "cell_type": "code",
   "execution_count": null,
   "metadata": {
    "scrolled": true
   },
   "outputs": [],
   "source": [
    "cave.pimp_comparison_table(run='budget_1000.0')"
   ]
  },
  {
   "cell_type": "markdown",
   "metadata": {},
   "source": [
    "To analyze BOHB's behaviour, we can check out the configurator footprint, cost-over-time and parallel coordinated parameters:"
   ]
  },
  {
   "cell_type": "code",
   "execution_count": null,
   "metadata": {
    "scrolled": false
   },
   "outputs": [],
   "source": [
    "cave.configurator_footprint(use_timeslider=True, num_quantiles=5)"
   ]
  },
  {
   "cell_type": "code",
   "execution_count": null,
   "metadata": {
    "scrolled": false
   },
   "outputs": [],
   "source": [
    "cave.cost_over_time()"
   ]
  },
  {
   "cell_type": "code",
   "execution_count": null,
   "metadata": {
    "scrolled": true
   },
   "outputs": [],
   "source": [
    "cave.parallel_coordinates(run='budget_1000.0')"
   ]
  },
  {
   "cell_type": "code",
   "execution_count": null,
   "metadata": {},
   "outputs": [],
   "source": []
  }
 ],
 "metadata": {
  "kernelspec": {
   "display_name": "BOHBsCAVE",
   "language": "python",
   "name": "bohbscave"
  },
  "language_info": {
   "codemirror_mode": {
    "name": "ipython",
    "version": 3
   },
   "file_extension": ".py",
   "mimetype": "text/x-python",
   "name": "python",
   "nbconvert_exporter": "python",
   "pygments_lexer": "ipython3",
   "version": "3.6.7"
  }
 },
 "nbformat": 4,
 "nbformat_minor": 2
}
