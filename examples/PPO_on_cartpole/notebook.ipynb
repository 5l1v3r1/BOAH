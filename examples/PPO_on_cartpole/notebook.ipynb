{
 "cells": [
  {
   "cell_type": "markdown",
   "metadata": {},
   "source": [
    "# BOAH Tool Suite - Example 2\n",
    "# Visualizing hyperband optimization on Proximal Policy Optimization for Cartpole"
   ]
  },
  {
   "cell_type": "markdown",
   "metadata": {},
   "source": [
    "This toolsuite provides the specification of design spaces, a robust\n",
    "and efficient combination of Bayesian optimization and HyperBand, and a comprehensive analysis of the optimization process and its outcomes to gain a better understanding.\n",
    "It makes use of the three highly compatible tools <a href=\"https://github.com/automl/ConfigSpace\" target=\"_blank\">ConfigSpace</a>, <a href=\"https://github.com/automl/HpBandSter\" target=\"_blank\">HpBandSter</a> and <a href=\"https://github.com/automl/CAVE\" target=\"_blank\">CAVE</a> to analyze and visualize the optimization process."
   ]
  },
  {
   "cell_type": "markdown",
   "metadata": {},
   "source": [
    "## About this experiment\n",
    "\n",
    "### Proximal Policy Optimization on the Cartpole Problem\n",
    "\n",
    "The <a href=\"https://gym.openai.com/envs/CartPole-v0/\" target=\"_blank\">Cartpole Problem</a> is a common benchmark for reinforcement learning agents, we use the implementation of openAI.\n",
    "<a href=\"https://arxiv.org/abs/1707.06347\" target=\"_blank\">Proximal Policy Optimization</a> is a reinforcement learning strategy with tunable hyperparameters.\n",
    "\n",
    "### Installation requirements\n",
    "\n",
    "To run the experiments, please install the icml <a href=\"https://github.com/automl/BOAH/blob/master/icml2018requirements.txt\" target=\"_blank\">requirements</a> which include gym and theano, e.g. `pip install -r examples/icml_2018_experiments/icml2018requirements.txt`."
   ]
  },
  {
   "cell_type": "markdown",
   "metadata": {},
   "source": [
    "## Run the experiment\n"
   ]
  },
  {
   "cell_type": "markdown",
   "metadata": {},
   "source": [
    "This examples ships with all the code necessary to reproduce the experiment. Because it takes a few days to generate the data, the results of the optimization are provided in `examples/PPO_on_cartpole`. To reproduce the results, just run:"
   ]
  },
  {
   "cell_type": "code",
   "execution_count": null,
   "metadata": {},
   "outputs": [],
   "source": [
    "from run_BOHB import main\n",
    "\n",
    "if True:\n",
    "    main()"
   ]
  },
  {
   "cell_type": "markdown",
   "metadata": {},
   "source": [
    "## Using the results in CAVE\n",
    "\n",
    "### Instantiate CAVE\n",
    "\n",
    "Analyzing the optimization results with CAVE is very straight-forward. If you want to use CAVE interactively in a notebook, set `show_jupyter=True`. Specify which optimization you want to analyze via the `folders` argument and specify `file_format==BOHB`. To analyze how BOHB optimized PPO on the cartpole-problem, run:"
   ]
  },
  {
   "cell_type": "code",
   "execution_count": null,
   "metadata": {
    "scrolled": false
   },
   "outputs": [],
   "source": [
    "from cave.cavefacade import CAVE\n",
    "\n",
    "cave = CAVE(folders=[\"NEMO_OUTPUT/BC_1\",\n",
    "                     \"NEMO_OUTPUT/BC_2\",\n",
    "                     \"NEMO_OUTPUT/BC_3\",\n",
    "                     \"NEMO_OUTPUT/BC_4\",\n",
    "                     \"NEMO_OUTPUT/BC_5\",\n",
    "                     \"NEMO_OUTPUT/BC_6\",\n",
    "                     \"NEMO_OUTPUT/BC_7\",\n",
    "                     \"NEMO_OUTPUT/BC_8\",\n",
    "                     \"NEMO_OUTPUT/BC_9\",\n",
    "                     \"NEMO_OUTPUT/BC_10\",\n",
    "                    ],\n",
    "            output_dir=\"CAVE_report\",  # output for debug/images/etc\n",
    "            ta_exec_dir=[\".\"],         # Only important for SMAC-results\n",
    "            file_format='BOHB',        # BOHB\n",
    "            verbose_level='OFF',\n",
    "            show_jupyter=True,\n",
    "           )"
   ]
  },
  {
   "cell_type": "markdown",
   "metadata": {},
   "source": [
    "To generate the HTML-report you can use the `analyze`-method. The report is located in `output_dir/report.html`, so in this case in `CAVE_report/report.html`."
   ]
  },
  {
   "cell_type": "code",
   "execution_count": null,
   "metadata": {},
   "outputs": [],
   "source": [
    "%%capture\n",
    "cave.analyze(cfp_time_slider=True)\n",
    "! firefox CAVE_report/report.html"
   ]
  },
  {
   "cell_type": "markdown",
   "metadata": {},
   "source": [
    "CAVE is fully compatible with Jupyter notebooks. You can invoke the individual analysis methods as follows.\n",
    "\n",
    "The most interesting plot for BOHB might be a visualization of the learning curves:"
   ]
  },
  {
   "cell_type": "code",
   "execution_count": null,
   "metadata": {
    "scrolled": false
   },
   "outputs": [],
   "source": [
    "cave.bohb_learning_curves();"
   ]
  },
  {
   "cell_type": "code",
   "execution_count": null,
   "metadata": {
    "scrolled": false
   },
   "outputs": [],
   "source": [
    "cave.overview_table();"
   ]
  },
  {
   "cell_type": "markdown",
   "metadata": {},
   "source": [
    "For each budget, we can list the cost over incumbents:"
   ]
  },
  {
   "cell_type": "code",
   "execution_count": null,
   "metadata": {
    "scrolled": false
   },
   "outputs": [],
   "source": [
    "cave.bohb_incumbents_per_budget();"
   ]
  },
  {
   "cell_type": "markdown",
   "metadata": {},
   "source": [
    "For parameter-importance analysis, CAVE uses <a href=\"https://github.com/automl/ParameterImportance\" target=\"_blank\">PIMP</a> , a package that provides multiple approaches to parameter-importance analysis. We can easily invoke them via CAVE, of course. To estimate the importance, random forests are used to predict performances of configurations that were not executed. This is difficult for big budgets with few configurations."
   ]
  },
  {
   "cell_type": "markdown",
   "metadata": {},
   "source": [
    "We can access the individual budgets via the 'run'-keyword-argument of each analysis-method."
   ]
  },
  {
   "cell_type": "code",
   "execution_count": null,
   "metadata": {
    "scrolled": false
   },
   "outputs": [],
   "source": [
    "cave.cave_fanova(run='budget_3');"
   ]
  },
  {
   "cell_type": "code",
   "execution_count": null,
   "metadata": {
    "scrolled": false
   },
   "outputs": [],
   "source": [
    "cave.local_parameter_importance(run='budget_3');"
   ]
  },
  {
   "cell_type": "markdown",
   "metadata": {},
   "source": [
    "For each budget, we can compare the different parameter-importance-methods that have already been run:"
   ]
  },
  {
   "cell_type": "code",
   "execution_count": null,
   "metadata": {},
   "outputs": [],
   "source": [
    "cave.pimp_comparison_table(run='budget_3');"
   ]
  },
  {
   "cell_type": "markdown",
   "metadata": {},
   "source": [
    "To analyze BOHB's behaviour, we can check out the configurator footprint, cost-over-time and parallel coordinated parameters:"
   ]
  },
  {
   "cell_type": "code",
   "execution_count": null,
   "metadata": {
    "scrolled": false
   },
   "outputs": [],
   "source": [
    "cave.configurator_footprint(use_timeslider=True, num_quantiles=5);"
   ]
  },
  {
   "cell_type": "code",
   "execution_count": null,
   "metadata": {
    "scrolled": false
   },
   "outputs": [],
   "source": [
    "cave.cost_over_time();"
   ]
  },
  {
   "cell_type": "code",
   "execution_count": null,
   "metadata": {
    "scrolled": false
   },
   "outputs": [],
   "source": [
    "cave.parallel_coordinates(run='budget_1');"
   ]
  },
  {
   "cell_type": "code",
   "execution_count": null,
   "metadata": {},
   "outputs": [],
   "source": []
  },
  {
   "cell_type": "code",
   "execution_count": null,
   "metadata": {},
   "outputs": [],
   "source": []
  }
 ],
 "metadata": {
  "kernelspec": {
   "display_name": "boah_general_req",
   "language": "python",
   "name": "boah_general_req"
  },
  "language_info": {
   "codemirror_mode": {
    "name": "ipython",
    "version": 3
   },
   "file_extension": ".py",
   "mimetype": "text/x-python",
   "name": "python",
   "nbconvert_exporter": "python",
   "pygments_lexer": "ipython3",
   "version": "3.6.7"
  }
 },
 "nbformat": 4,
 "nbformat_minor": 2
}
