{
 "cells": [
  {
   "cell_type": "markdown",
   "metadata": {},
   "source": [
    "# BOAH Tool Suite - Example 1\n",
    "# Visualizing hyperband-optimization, using the fmin-function"
   ]
  },
  {
   "cell_type": "markdown",
   "metadata": {},
   "source": [
    "In this notebook, we present an example of how to connect our tools <a href=\"https://github.com/automl/ConfigSpace\" target=\"_blank\">ConfigSpace</a>, <a href=\"https://github.com/automl/CAVE\" target=\"_blank\">CAVE</a> and <a href=\"https://github.com/automl/HpBandSter\" target=\"_blank\">HpBandSter</a> to efficiently optimize a neural network and subsequently analyze and visualize the optimization process."
   ]
  },
  {
   "cell_type": "markdown",
   "metadata": {},
   "source": [
    "## Running BOHB using fmin-interface"
   ]
  },
  {
   "cell_type": "markdown",
   "metadata": {},
   "source": [
    "### 1.1) Define a configuration space\n",
    "\n",
    "Every problem needs a description of the search space to be complete. In HpBandSter, the <a href=\"https://github.com/automl/ConfigSpace\" target=\"_blank\">ConfigurationSpace</a>-object defines all hyperparameters, their ranges and dependencies between them.\n",
    "\n",
    "In our example here, the search space consists of the hyperparameters:\n",
    "\n",
    "|         Name        |     Type    |      Values      |     Condition    |\n",
    "|:-------------------:|:-----------:|:----------------:|:----------------:|\n",
    "| activation-function | categorical | {'relu', 'tanh'} |                  |\n",
    "|    learning-rate    |    float    |   [1e-6 - 1e-2]  |                  |\n",
    "|        solver       | categorical |  {'sgd', 'adam'} |                  |\n",
    "|        beta_1       |    float    |      [0, 1]      | solver == 'adam' |\n",
    "|        beta_2       |    float    |      [0, 1]      | solver == 'adam' |"
   ]
  },
  {
   "cell_type": "markdown",
   "metadata": {},
   "source": [
    "### 1.2) Function to optimize:\n",
    "\n",
    "To perform a BOHB run on the local machine, we use the ``fmin`` interface provided by the BOAH toolsuite.\n",
    "It starts a local BOHB optimization run for the function to optimize over the given ``ConfigSpace``, which is described below.\n",
    "\n",
    "The ``fmin`` interface helps you to run BOHB fast by initializing the core elements of BOHB automatically. If you need more control, for example, if you like to run it on your cluster, we would like to refer you to the <a href=\"https://automl.github.io/HpBandSter/\" target=\"_blank\">more detailed documentation of BOHB</a>. \n",
    "\n",
    "To use the ``fmin`` interface, your function must satisfy the following requirements:\n",
    "\n",
    "- take as argument a parameter ``budget``\n",
    "- take as arguments all hyperparameters defined in the configuration space\n",
    "- return a single python scalar: the objective to minimize of your model\n",
    "\n",
    "More information about using ``fmin`` is provided in the \n",
    "<a href=\"https://github.com/automl/BOAH/blob/master/boah/scripts/FMin.py\" target=\"_blank\">fmin documentation</a>.\n",
    "\n",
    "Both, the configuration space and the function to optimize are moved to example/mlp_on_digits, to increase the readability of this notebook.\n",
    "\n",
    "**Note**:\n",
    "For later analysis, it is crucial to save the configuration space to file. For example with ConfigSpace's <a href=\"https://automl.github.io/ConfigSpace/master/API-Doc.html#module-ConfigSpace.read_and_write.json\" target=\"_blank\">json-serializer</a>. ``fmin`` will do this job automatically for you. But keep it in mind, if you are using the standard BOHB interface."
   ]
  },
  {
   "cell_type": "code",
   "execution_count": null,
   "metadata": {
    "scrolled": false
   },
   "outputs": [],
   "source": [
    "# Make relative imports possible\n",
    "import os\n",
    "import sys\n",
    "module_path = os.path.abspath(os.path.join('../..'))\n",
    "if module_path not in sys.path:\n",
    "    sys.path.append(module_path)\n",
    "\n",
    "# \"optimize_mlp_on_digits\" is the target algorithm to optimize\n",
    "# \"get_configspace\" is merely a function to provide a ConfigurationSpace-object\n",
    "from examples.mlp_on_digits.helper_functions import optimize_mlp_on_digits, get_configspace, load_digits"
   ]
  },
  {
   "cell_type": "markdown",
   "metadata": {
    "scrolled": false
   },
   "source": [
    "### 1.3) Starting the optimization run\n",
    "\n",
    "**NOTE:** While running the optimization process via ``fmin``, the configuration space, as well as the results, obtained by BOHB, are stored to file. This is necessary for the analysis of the run with CAVE.\n",
    "\n",
    "We read in the configuration space and make a directory to store the results."
   ]
  },
  {
   "cell_type": "code",
   "execution_count": null,
   "metadata": {},
   "outputs": [],
   "source": [
    "import os\n",
    "\n",
    "# Load the configuration space\n",
    "config_space = get_configspace()\n",
    "\n",
    "# Create a output directory\n",
    "out_dir = 'example_mlp_on_digits'\n",
    "os.makedirs(out_dir, exist_ok=True)\n",
    "\n",
    "# Load MNIST data\n",
    "train, valid = load_digits()"
   ]
  },
  {
   "cell_type": "markdown",
   "metadata": {},
   "source": [
    "We deactivate logging to ensure readability"
   ]
  },
  {
   "cell_type": "code",
   "execution_count": null,
   "metadata": {},
   "outputs": [],
   "source": [
    "import logging\n",
    "logging.basicConfig(level=logging.ERROR)"
   ]
  },
  {
   "cell_type": "markdown",
   "metadata": {},
   "source": [
    "**Let's start the optimization run**:"
   ]
  },
  {
   "cell_type": "code",
   "execution_count": null,
   "metadata": {
    "scrolled": true
   },
   "outputs": [],
   "source": [
    "import warnings\n",
    "from scripts.FMin import fmin\n",
    "\n",
    "with warnings.catch_warnings():\n",
    "    warnings.simplefilter(\"ignore\")\n",
    "    \n",
    "    inc_value, inc_cfg, result = fmin(\n",
    "        optimize_mlp_on_digits, config_space, func_args=(train, valid), eta=2,\n",
    "        min_budget=5,      # minimum budget\n",
    "        max_budget=200,\n",
    "        num_iterations=10,\n",
    "        num_workers=1, output_dir=out_dir)"
   ]
  },
  {
   "cell_type": "markdown",
   "metadata": {},
   "source": [
    "Besides the best found configuration and its loss value, ``fmin`` returns a Result-object generated by HpBandSter.\n",
    "The <a href=\"https://automl.github.io/HpBandSter/build/html/core/result.html\" target=\"_blank\">Result-object</a> offers access to basic statistics, as well as the trajectory."
   ]
  },
  {
   "cell_type": "code",
   "execution_count": null,
   "metadata": {},
   "outputs": [],
   "source": [
    "id2config = result.get_id2config_mapping()\n",
    "incumbent_trajectory = result.get_incumbent_trajectory()\n",
    "\n",
    "print('A total of {} unique configurations where sampled.\\n'\n",
    "      'A total of {} runs where executed.\\n'\n",
    "      'Best configuration found: {}'.format(\n",
    "      len(id2config.keys()), \n",
    "      len(result.get_all_runs()), \n",
    "      id2config[result.get_incumbent_id()]['config']))"
   ]
  },
  {
   "cell_type": "markdown",
   "metadata": {},
   "source": [
    "The ``incumbent trajectory`` is a dictionary with all the configuration IDs,\n",
    "the times the runs finished, their respective budgets,\n",
    "and corresponding losses. It's used to do meaningful plots of the optimization process."
   ]
  },
  {
   "cell_type": "markdown",
   "metadata": {},
   "source": [
    "## Using the results in CAVE\n",
    "\n",
    "### 2.1) Creating a HTML-report with CAVE\n",
    "\n",
    "Creating the report with CAVE is very straight-forward. Simply provide the output directory of the BOHB-analysis in CAVE's `--folders` argument and specify `--file_format` as `BOHB`. You can do this by command line ('!' simply executes the command as if it was executed on the command line):\n"
   ]
  },
  {
   "cell_type": "code",
   "execution_count": null,
   "metadata": {
    "scrolled": false
   },
   "outputs": [],
   "source": [
    "%%capture\n",
    "! cave --folders example_mlp_on_digits --file_format BOHB --output CAVE_bash_mlp_on_digits --verbose_level OFF"
   ]
  },
  {
   "cell_type": "markdown",
   "metadata": {},
   "source": [
    "After CAVE finished the report, you can have a look at it with your favorite browser."
   ]
  },
  {
   "cell_type": "code",
   "execution_count": null,
   "metadata": {
    "scrolled": false
   },
   "outputs": [],
   "source": [
    "! firefox ./CAVE_bash_mlp_on_digits/report.html"
   ]
  },
  {
   "cell_type": "markdown",
   "metadata": {},
   "source": [
    "### 2.2) Using CAVE from within Python\n",
    "\n",
    "Of course, you can use CAVE on a module-level. Import and instantiate it (very similar to the command line). By default, CAVE even outputs all analysis results in a jupyter-cell-compatible way. Of course, the HTML-report is built meanwhile, so you don't have to run time-consuming analyzing-methods repeatedly."
   ]
  },
  {
   "cell_type": "code",
   "execution_count": null,
   "metadata": {
    "scrolled": false
   },
   "outputs": [],
   "source": [
    "from cave.cavefacade import CAVE\n",
    "\n",
    "cave = CAVE(folders=[\"example_mlp_on_digits\"],\n",
    "            output_dir=\"CAVE_python_mlp_on_digits\",\n",
    "            ta_exec_dir=[\".\"],\n",
    "            file_format='BOHB',\n",
    "            verbose_level='OFF'\n",
    "           )"
   ]
  },
  {
   "cell_type": "markdown",
   "metadata": {},
   "source": [
    "The most interesting plot for BOHB might be a visualization of the learning curves:"
   ]
  },
  {
   "cell_type": "code",
   "execution_count": null,
   "metadata": {
    "scrolled": false
   },
   "outputs": [],
   "source": [
    "cave.bohb_learning_curves()"
   ]
  },
  {
   "cell_type": "markdown",
   "metadata": {},
   "source": [
    "We can access the individual budgets via the 'run'-keyword-argument of each analysis method."
   ]
  },
  {
   "cell_type": "code",
   "execution_count": null,
   "metadata": {
    "scrolled": false
   },
   "outputs": [],
   "source": [
    "cave.overview_table(run='budget_12.5')"
   ]
  },
  {
   "cell_type": "markdown",
   "metadata": {},
   "source": [
    "For each budget, we can list the cost over incumbents:"
   ]
  },
  {
   "cell_type": "code",
   "execution_count": null,
   "metadata": {
    "scrolled": false
   },
   "outputs": [],
   "source": [
    "cave.bohb_incumbents_per_budget()"
   ]
  },
  {
   "cell_type": "code",
   "execution_count": null,
   "metadata": {
    "scrolled": false
   },
   "outputs": [],
   "source": [
    "cave.performance_table(run='budget_25')"
   ]
  },
  {
   "cell_type": "markdown",
   "metadata": {},
   "source": [
    "For parameter-importance analysis, CAVE uses <a href=\"https://github.com/automl/ParameterImportance\" target=\"_blank\">PIMP</a>, a package that provides multiple approaches to parameter-importance analysis. We can easily invoke them via CAVE, of course. To estimate the importance, random forests are used to predict performances of configurations that were not executed. This is difficult for big budgets with few configurations."
   ]
  },
  {
   "cell_type": "code",
   "execution_count": null,
   "metadata": {
    "scrolled": false
   },
   "outputs": [],
   "source": [
    "cave.cave_fanova(run='budget_12.5')"
   ]
  },
  {
   "cell_type": "code",
   "execution_count": null,
   "metadata": {
    "scrolled": false
   },
   "outputs": [],
   "source": [
    "cave.local_parameter_importance(run='budget_12.5')"
   ]
  },
  {
   "cell_type": "markdown",
   "metadata": {},
   "source": [
    "For each budget, we can compare the different parameter importance methods that have already been run:"
   ]
  },
  {
   "cell_type": "code",
   "execution_count": null,
   "metadata": {
    "scrolled": true
   },
   "outputs": [],
   "source": [
    "cave.pimp_comparison_table(run='budget_12.5')"
   ]
  },
  {
   "cell_type": "markdown",
   "metadata": {},
   "source": [
    "To analyze BOHB's behavior, we can check out the configurator footprint, cost-over-time, and parallel coordinated parameters:"
   ]
  },
  {
   "cell_type": "code",
   "execution_count": null,
   "metadata": {
    "scrolled": false
   },
   "outputs": [],
   "source": [
    "cave.configurator_footprint(run='budget_12.5', use_timeslider=True, num_quantiles=5)"
   ]
  },
  {
   "cell_type": "code",
   "execution_count": null,
   "metadata": {
    "scrolled": false
   },
   "outputs": [],
   "source": [
    "cave.cost_over_time(run=\"budget_25\")"
   ]
  },
  {
   "cell_type": "code",
   "execution_count": null,
   "metadata": {
    "scrolled": false
   },
   "outputs": [],
   "source": [
    "cave.parallel_coordinates(run='budget_12.5')"
   ]
  }
 ],
 "metadata": {
  "kernelspec": {
   "display_name": "boah_general_req",
   "language": "python",
   "name": "boah_general_req"
  },
  "language_info": {
   "codemirror_mode": {
    "name": "ipython",
    "version": 3
   },
   "file_extension": ".py",
   "mimetype": "text/x-python",
   "name": "python",
   "nbconvert_exporter": "python",
   "pygments_lexer": "ipython3",
   "version": "3.6.7"
  }
 },
 "nbformat": 4,
 "nbformat_minor": 2
}
